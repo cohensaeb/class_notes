{
 "cells": [
  {
   "cell_type": "markdown",
   "id": "72bb3bd4-8653-4906-a34f-3b9b9b19d7b5",
   "metadata": {},
   "source": [
    "## AIDI ASSIGNMENT 2\n",
    "## AUTHOR: AHMAD SAYEB-200534271"
   ]
  },
  {
   "cell_type": "code",
   "execution_count": 6,
   "id": "c06d832c-9a0f-437c-aadc-e18c6b01ebf7",
   "metadata": {},
   "outputs": [],
   "source": [
    "# Packages\n",
    "#-----------Generic-------------#\n",
    "import pandas as pd\n",
    "from sklearn import preprocessing\n",
    "from sklearn.cluster import KMeans\n",
    "from sklearn import model_selection\n",
    "import numpy as np\n",
    "import matplotlib.pyplot as plt\n",
    "import plotly.express as px\n",
    "#----------Clustering-----------#\n",
    "from pyclustering.cluster.kmeans import kmeans\n",
    "from pyclustering.utils.metric import type_metric, distance_metric\n",
    "from pyclustering.cluster.kmeans import kmeans\n",
    "from pyclustering.utils.metric import distance_metric\n",
    "from pyclustering.cluster.center_initializer import random_center_initializer\n",
    "from pyclustering.cluster.encoder import type_encoding\n",
    "from pyclustering.cluster.encoder import cluster_encoder\n",
    "#---------Algorithms-------------------#\n",
    "from sklearn.linear_model import LogisticRegression\n",
    "from sklearn.tree import DecisionTreeClassifier\n",
    "from sklearn.ensemble import RandomForestClassifier\n",
    "from sklearn.naive_bayes import GaussianNB\n",
    "#--------Dimensionality Reduction------#\n",
    "from sklearn import decomposition\n",
    "from sklearn import discriminant_analysis\n",
    "#--------For Warnings-----------------#\n",
    "import warnings\n",
    "warnings.filterwarnings('ignore')\n",
    "#---------Metrics----------------------#\n",
    "from sklearn.metrics import confusion_matrix, ConfusionMatrixDisplay, accuracy_score\n",
    "from sklearn.metrics import classification_report\n",
    "#-----------Data----------------------#\n",
    "from sklearn.datasets import load_breast_cancer"
   ]
  },
  {
   "cell_type": "markdown",
   "id": "31cfa5eb-5c2c-4686-8044-0a317a4facca",
   "metadata": {},
   "source": [
    "### Question 1"
   ]
  },
  {
   "cell_type": "code",
   "execution_count": 7,
   "id": "39db1d2b-b354-45eb-8ded-59e8f00b5d23",
   "metadata": {},
   "outputs": [],
   "source": [
    "def read_csv(path: str) -> 'dataframe':\n",
    "    '''read the excel file and return a df'''\n",
    "    \n",
    "    return pd.read_csv(path)\n",
    "\n",
    "\n",
    "def drop_cols(df: 'dataframe', cols: list):\n",
    "    '''drop columns that are specified'''\n",
    "    df.drop(columns=cols, inplace=True)\n",
    "\n",
    "    \n",
    "def label_encoder(df: 'dataframe', col: 'str'):\n",
    "    '''label encodes the column of the df\n",
    "    it uses sklearn label encoder'''\n",
    "    le = preprocessing.LabelEncoder()\n",
    "    vals = df[col].values\n",
    "    le.fit(vals)\n",
    "    encoded_vals = le.transform(vals)\n",
    "    df[col] = encoded_vals\n",
    "\n",
    "\n",
    "#This function is not used (Normalization is not necessary for K-means\n",
    "#Performing k-means on normalized data gave the same result\n",
    "# However this is used for predictive algorithms\n",
    "def normalize(df: 'dataframe', cols: list):\n",
    "    '''normalizes columns of dataframe'''\n",
    "    transformer = preprocessing.Normalizer()\n",
    "    for col in cols:\n",
    "        vals = df[col].values.reshape(1, -1)\n",
    "        transformer.fit(vals)\n",
    "        norm_vals = transformer.transform(vals)\n",
    "        df[col] = norm_vals[0]\n",
    "\n",
    "\n",
    "def k_means_manhattan(df: 'dataframe'):\n",
    "    '''\n",
    "    This function labels the data using k-means cluster\n",
    "    have used pyClustering library since you can define type of distance measuring\n",
    "    distance_metric(2) refers to manhattan in this library\n",
    "    '''\n",
    "    initial_centers = random_center_initializer(df.values, 4, random_state=5).initialize()\n",
    "    #distance metric 2 for manhattan\n",
    "    Kmeans_manhattan = kmeans(df, initial_centers=initial_centers, metric=distance_metric(2))\n",
    "    Kmeans_manhattan.process()\n",
    "    pyClusters = Kmeans_manhattan.get_clusters()\n",
    "    pyCenters = Kmeans_manhattan.get_centers()\n",
    "    pyEncoding = Kmeans_manhattan.get_cluster_encoding()\n",
    "    pyEncoder = cluster_encoder(pyEncoding, pyClusters, df)\n",
    "    pyLabels = pyEncoder.set_encoding(0).get_clusters()\n",
    "    df['Labels'] = pyLabels\n",
    "\n",
    "\n",
    "def train_test_split(df: 'dataframe'):\n",
    "    '''\n",
    "    This function normalizes and splits the data into train and test\n",
    "    '''\n",
    "    normalize(df, ['Annual_Income_(k$)', 'Spending_Score'])\n",
    "    X = df[['Annual_Income_(k$)', 'Spending_Score']]\n",
    "    Y = df[['Labels']]\n",
    "    \n",
    "    X_train, X_test, y_train, y_test = model_selection.train_test_split(X, Y, random_state=0, shuffle=True)\n",
    "    return X_train, X_test, y_train, y_test\n",
    "\n",
    "\n",
    "def logistic_reg(X_train: 'df', X_test: 'df', y_train: 'df', y_test: 'df'):\n",
    "    '''\n",
    "    applying logistic regression\n",
    "    '''\n",
    "    print('performing logistic regression...')\n",
    "    lr = LogisticRegression(random_state=0, multi_class='multinomial')\n",
    "    lr.fit(X_train.values, y_train.values.ravel())\n",
    "    y_lr = lr.predict(X_test.values)\n",
    "    print('metrics for logistic regression...')\n",
    "    print(f'accuracy: {accuracy_score(y_test.values.ravel(), y_lr)}')\n",
    "    print('classification report:\\n')\n",
    "    target_names = [\"0\",\"1\",\"2\",\"3\"]\n",
    "    print(classification_report(y_test.values.ravel(), y_lr, target_names=target_names))\n",
    "    print('confusion matrix for Logistic Regression\\n')\n",
    "    cm = confusion_matrix(y_test.values.ravel(), y_lr, labels=lr.classes_)\n",
    "    disp = ConfusionMatrixDisplay(confusion_matrix=cm, display_labels=lr.classes_)\n",
    "    disp.plot()\n",
    "    plt.show()\n",
    "    \n",
    "def decesion_tree(X_train: 'df', X_test: 'df', y_train: 'df', y_test: 'df'):\n",
    "    '''\n",
    "    applying decesion tree\n",
    "    '''\n",
    "    print('performing Decesion Tree...')\n",
    "    dt = DecisionTreeClassifier(random_state=0, max_depth=5)\n",
    "    dt.fit(X_train.values, y_train.values.ravel())\n",
    "    y_dt = dt.predict(X_test.values)\n",
    "    print('metrics for Decesion Tree...')\n",
    "    print(f'accuracy: {accuracy_score(y_test.values.ravel(), y_dt)}')\n",
    "    print('classification report:\\n')\n",
    "    target_names = [\"0\",\"1\",\"2\",\"3\"]\n",
    "    print(classification_report(y_test.values.ravel(), y_dt, target_names=target_names))\n",
    "    print('confusion matrix for Decesion Tree\\n')\n",
    "    cm = confusion_matrix(y_test.values.ravel(), y_dt, labels=dt.classes_)\n",
    "    disp = ConfusionMatrixDisplay(confusion_matrix=cm, display_labels=dt.classes_)\n",
    "    disp.plot()\n",
    "    plt.show()\n",
    "\n",
    "\n",
    "def random_forest(X_train: 'df', X_test: 'df', y_train: 'df', y_test: 'df'):\n",
    "    '''\n",
    "    applying random forest\n",
    "    '''\n",
    "    print('performing Random Forest...')\n",
    "    rf = RandomForestClassifier(random_state=0, max_depth=5)\n",
    "    rf.fit(X_train.values, y_train.values.ravel())\n",
    "    y_rf = rf.predict(X_test.values)\n",
    "    print('metrics for Random Forest...')\n",
    "    print(f'accuracy: {accuracy_score(y_test.values.ravel(), y_rf)}')\n",
    "    print('classification report:\\n')\n",
    "    target_names = [\"0\",\"1\",\"2\",\"3\"]\n",
    "    print(classification_report(y_test.values.ravel(), y_rf, target_names=target_names))\n",
    "    print('confusion matrix for Random Forest\\n')\n",
    "    cm = confusion_matrix(y_test.values.ravel(), y_rf, labels=rf.classes_)\n",
    "    disp = ConfusionMatrixDisplay(confusion_matrix=cm, display_labels=rf.classes_)\n",
    "    disp.plot()\n",
    "    plt.show()\n",
    "\n",
    "def naive_bayes(X_train: 'df', X_test: 'df', y_train: 'df', y_test: 'df'):\n",
    "    '''\n",
    "    applying naive bayes\n",
    "    '''\n",
    "    print('performing Random Forest...')\n",
    "    nv = GaussianNB()\n",
    "    nv.fit(X_train.values, y_train.values.ravel())\n",
    "    y_nv = nv.predict(X_test.values)\n",
    "    print('metrics for Naive Bayes...')\n",
    "    print(f'accuracy: {accuracy_score(y_test.values.ravel(), y_nv)}')\n",
    "    print('classification report:\\n')\n",
    "    target_names = [\"0\",\"1\",\"2\",\"3\"]\n",
    "    print(classification_report(y_test.values.ravel(), y_nv, target_names=target_names))\n",
    "    print('confusion matrix for Naive Bayes\\n')\n",
    "    cm = confusion_matrix(y_test.values.ravel(), y_nv, labels=nv.classes_)\n",
    "    disp = ConfusionMatrixDisplay(confusion_matrix=cm, display_labels=nv.classes_)\n",
    "    disp.plot()\n",
    "    plt.show()\n"
   ]
  },
  {
   "cell_type": "markdown",
   "id": "0151fa11-bf76-49d7-b806-dedd828f9a63",
   "metadata": {},
   "source": [
    "#### Loading Data"
   ]
  },
  {
   "cell_type": "code",
   "execution_count": 8,
   "id": "2c5b4687-eecc-44d5-8ca1-cea020645ce3",
   "metadata": {},
   "outputs": [
    {
     "data": {
      "text/html": [
       "<div>\n",
       "<style scoped>\n",
       "    .dataframe tbody tr th:only-of-type {\n",
       "        vertical-align: middle;\n",
       "    }\n",
       "\n",
       "    .dataframe tbody tr th {\n",
       "        vertical-align: top;\n",
       "    }\n",
       "\n",
       "    .dataframe thead th {\n",
       "        text-align: right;\n",
       "    }\n",
       "</style>\n",
       "<table border=\"1\" class=\"dataframe\">\n",
       "  <thead>\n",
       "    <tr style=\"text-align: right;\">\n",
       "      <th></th>\n",
       "      <th>CustomerID</th>\n",
       "      <th>Genre</th>\n",
       "      <th>Age</th>\n",
       "      <th>Annual_Income_(k$)</th>\n",
       "      <th>Spending_Score</th>\n",
       "    </tr>\n",
       "  </thead>\n",
       "  <tbody>\n",
       "    <tr>\n",
       "      <th>0</th>\n",
       "      <td>1</td>\n",
       "      <td>Male</td>\n",
       "      <td>19</td>\n",
       "      <td>15</td>\n",
       "      <td>39</td>\n",
       "    </tr>\n",
       "    <tr>\n",
       "      <th>1</th>\n",
       "      <td>2</td>\n",
       "      <td>Male</td>\n",
       "      <td>21</td>\n",
       "      <td>15</td>\n",
       "      <td>81</td>\n",
       "    </tr>\n",
       "    <tr>\n",
       "      <th>2</th>\n",
       "      <td>3</td>\n",
       "      <td>Female</td>\n",
       "      <td>20</td>\n",
       "      <td>16</td>\n",
       "      <td>6</td>\n",
       "    </tr>\n",
       "    <tr>\n",
       "      <th>3</th>\n",
       "      <td>4</td>\n",
       "      <td>Female</td>\n",
       "      <td>23</td>\n",
       "      <td>16</td>\n",
       "      <td>77</td>\n",
       "    </tr>\n",
       "    <tr>\n",
       "      <th>4</th>\n",
       "      <td>5</td>\n",
       "      <td>Female</td>\n",
       "      <td>31</td>\n",
       "      <td>17</td>\n",
       "      <td>40</td>\n",
       "    </tr>\n",
       "    <tr>\n",
       "      <th>5</th>\n",
       "      <td>6</td>\n",
       "      <td>Female</td>\n",
       "      <td>22</td>\n",
       "      <td>17</td>\n",
       "      <td>76</td>\n",
       "    </tr>\n",
       "    <tr>\n",
       "      <th>6</th>\n",
       "      <td>7</td>\n",
       "      <td>Female</td>\n",
       "      <td>35</td>\n",
       "      <td>18</td>\n",
       "      <td>6</td>\n",
       "    </tr>\n",
       "    <tr>\n",
       "      <th>7</th>\n",
       "      <td>8</td>\n",
       "      <td>Female</td>\n",
       "      <td>23</td>\n",
       "      <td>18</td>\n",
       "      <td>94</td>\n",
       "    </tr>\n",
       "    <tr>\n",
       "      <th>8</th>\n",
       "      <td>9</td>\n",
       "      <td>Male</td>\n",
       "      <td>64</td>\n",
       "      <td>19</td>\n",
       "      <td>3</td>\n",
       "    </tr>\n",
       "    <tr>\n",
       "      <th>9</th>\n",
       "      <td>10</td>\n",
       "      <td>Female</td>\n",
       "      <td>30</td>\n",
       "      <td>19</td>\n",
       "      <td>72</td>\n",
       "    </tr>\n",
       "  </tbody>\n",
       "</table>\n",
       "</div>"
      ],
      "text/plain": [
       "   CustomerID   Genre  Age  Annual_Income_(k$)  Spending_Score\n",
       "0           1    Male   19                  15              39\n",
       "1           2    Male   21                  15              81\n",
       "2           3  Female   20                  16               6\n",
       "3           4  Female   23                  16              77\n",
       "4           5  Female   31                  17              40\n",
       "5           6  Female   22                  17              76\n",
       "6           7  Female   35                  18               6\n",
       "7           8  Female   23                  18              94\n",
       "8           9    Male   64                  19               3\n",
       "9          10  Female   30                  19              72"
      ]
     },
     "execution_count": 8,
     "metadata": {},
     "output_type": "execute_result"
    }
   ],
   "source": [
    "df = read_csv('Mall_Customers.csv')\n",
    "df.head(10)"
   ]
  },
  {
   "cell_type": "code",
   "execution_count": 9,
   "id": "19091dea-74ce-4f31-bc66-1754ce6e79af",
   "metadata": {},
   "outputs": [
    {
     "data": {
      "text/html": [
       "<div>\n",
       "<style scoped>\n",
       "    .dataframe tbody tr th:only-of-type {\n",
       "        vertical-align: middle;\n",
       "    }\n",
       "\n",
       "    .dataframe tbody tr th {\n",
       "        vertical-align: top;\n",
       "    }\n",
       "\n",
       "    .dataframe thead th {\n",
       "        text-align: right;\n",
       "    }\n",
       "</style>\n",
       "<table border=\"1\" class=\"dataframe\">\n",
       "  <thead>\n",
       "    <tr style=\"text-align: right;\">\n",
       "      <th></th>\n",
       "      <th>CustomerID</th>\n",
       "      <th>Age</th>\n",
       "      <th>Annual_Income_(k$)</th>\n",
       "      <th>Spending_Score</th>\n",
       "    </tr>\n",
       "  </thead>\n",
       "  <tbody>\n",
       "    <tr>\n",
       "      <th>count</th>\n",
       "      <td>200.000000</td>\n",
       "      <td>200.000000</td>\n",
       "      <td>200.000000</td>\n",
       "      <td>200.000000</td>\n",
       "    </tr>\n",
       "    <tr>\n",
       "      <th>mean</th>\n",
       "      <td>100.500000</td>\n",
       "      <td>38.850000</td>\n",
       "      <td>60.560000</td>\n",
       "      <td>50.200000</td>\n",
       "    </tr>\n",
       "    <tr>\n",
       "      <th>std</th>\n",
       "      <td>57.879185</td>\n",
       "      <td>13.969007</td>\n",
       "      <td>26.264721</td>\n",
       "      <td>25.823522</td>\n",
       "    </tr>\n",
       "    <tr>\n",
       "      <th>min</th>\n",
       "      <td>1.000000</td>\n",
       "      <td>18.000000</td>\n",
       "      <td>15.000000</td>\n",
       "      <td>1.000000</td>\n",
       "    </tr>\n",
       "    <tr>\n",
       "      <th>25%</th>\n",
       "      <td>50.750000</td>\n",
       "      <td>28.750000</td>\n",
       "      <td>41.500000</td>\n",
       "      <td>34.750000</td>\n",
       "    </tr>\n",
       "    <tr>\n",
       "      <th>50%</th>\n",
       "      <td>100.500000</td>\n",
       "      <td>36.000000</td>\n",
       "      <td>61.500000</td>\n",
       "      <td>50.000000</td>\n",
       "    </tr>\n",
       "    <tr>\n",
       "      <th>75%</th>\n",
       "      <td>150.250000</td>\n",
       "      <td>49.000000</td>\n",
       "      <td>78.000000</td>\n",
       "      <td>73.000000</td>\n",
       "    </tr>\n",
       "    <tr>\n",
       "      <th>max</th>\n",
       "      <td>200.000000</td>\n",
       "      <td>70.000000</td>\n",
       "      <td>137.000000</td>\n",
       "      <td>99.000000</td>\n",
       "    </tr>\n",
       "  </tbody>\n",
       "</table>\n",
       "</div>"
      ],
      "text/plain": [
       "       CustomerID         Age  Annual_Income_(k$)  Spending_Score\n",
       "count  200.000000  200.000000          200.000000      200.000000\n",
       "mean   100.500000   38.850000           60.560000       50.200000\n",
       "std     57.879185   13.969007           26.264721       25.823522\n",
       "min      1.000000   18.000000           15.000000        1.000000\n",
       "25%     50.750000   28.750000           41.500000       34.750000\n",
       "50%    100.500000   36.000000           61.500000       50.000000\n",
       "75%    150.250000   49.000000           78.000000       73.000000\n",
       "max    200.000000   70.000000          137.000000       99.000000"
      ]
     },
     "execution_count": 9,
     "metadata": {},
     "output_type": "execute_result"
    }
   ],
   "source": [
    "df.describe()"
   ]
  },
  {
   "cell_type": "code",
   "execution_count": 10,
   "id": "d7185c56-ecda-47ee-8426-c6c24a7f0591",
   "metadata": {},
   "outputs": [
    {
     "name": "stdout",
     "output_type": "stream",
     "text": [
      "<class 'pandas.core.frame.DataFrame'>\n",
      "RangeIndex: 200 entries, 0 to 199\n",
      "Data columns (total 5 columns):\n",
      " #   Column              Non-Null Count  Dtype \n",
      "---  ------              --------------  ----- \n",
      " 0   CustomerID          200 non-null    int64 \n",
      " 1   Genre               200 non-null    object\n",
      " 2   Age                 200 non-null    int64 \n",
      " 3   Annual_Income_(k$)  200 non-null    int64 \n",
      " 4   Spending_Score      200 non-null    int64 \n",
      "dtypes: int64(4), object(1)\n",
      "memory usage: 7.9+ KB\n"
     ]
    }
   ],
   "source": [
    "df.info()"
   ]
  },
  {
   "cell_type": "code",
   "execution_count": 11,
   "id": "f38ef793-43f0-4456-8e7e-1460d29c474f",
   "metadata": {},
   "outputs": [
    {
     "data": {
      "text/plain": [
       "CustomerID            0\n",
       "Genre                 0\n",
       "Age                   0\n",
       "Annual_Income_(k$)    0\n",
       "Spending_Score        0\n",
       "dtype: int64"
      ]
     },
     "execution_count": 11,
     "metadata": {},
     "output_type": "execute_result"
    }
   ],
   "source": [
    "df.isnull().sum()"
   ]
  },
  {
   "cell_type": "code",
   "execution_count": 12,
   "id": "1dc27706-1f41-4a8b-81e2-dafaf424ecb4",
   "metadata": {},
   "outputs": [
    {
     "name": "stdout",
     "output_type": "stream",
     "text": [
      "label encoding data...\n",
      "Removing columns that are not needed...\n",
      "data after pre-processing...\n"
     ]
    },
    {
     "data": {
      "text/html": [
       "<div>\n",
       "<style scoped>\n",
       "    .dataframe tbody tr th:only-of-type {\n",
       "        vertical-align: middle;\n",
       "    }\n",
       "\n",
       "    .dataframe tbody tr th {\n",
       "        vertical-align: top;\n",
       "    }\n",
       "\n",
       "    .dataframe thead th {\n",
       "        text-align: right;\n",
       "    }\n",
       "</style>\n",
       "<table border=\"1\" class=\"dataframe\">\n",
       "  <thead>\n",
       "    <tr style=\"text-align: right;\">\n",
       "      <th></th>\n",
       "      <th>Annual_Income_(k$)</th>\n",
       "      <th>Spending_Score</th>\n",
       "    </tr>\n",
       "  </thead>\n",
       "  <tbody>\n",
       "    <tr>\n",
       "      <th>0</th>\n",
       "      <td>15</td>\n",
       "      <td>39</td>\n",
       "    </tr>\n",
       "    <tr>\n",
       "      <th>1</th>\n",
       "      <td>15</td>\n",
       "      <td>81</td>\n",
       "    </tr>\n",
       "    <tr>\n",
       "      <th>2</th>\n",
       "      <td>16</td>\n",
       "      <td>6</td>\n",
       "    </tr>\n",
       "    <tr>\n",
       "      <th>3</th>\n",
       "      <td>16</td>\n",
       "      <td>77</td>\n",
       "    </tr>\n",
       "    <tr>\n",
       "      <th>4</th>\n",
       "      <td>17</td>\n",
       "      <td>40</td>\n",
       "    </tr>\n",
       "    <tr>\n",
       "      <th>5</th>\n",
       "      <td>17</td>\n",
       "      <td>76</td>\n",
       "    </tr>\n",
       "    <tr>\n",
       "      <th>6</th>\n",
       "      <td>18</td>\n",
       "      <td>6</td>\n",
       "    </tr>\n",
       "    <tr>\n",
       "      <th>7</th>\n",
       "      <td>18</td>\n",
       "      <td>94</td>\n",
       "    </tr>\n",
       "    <tr>\n",
       "      <th>8</th>\n",
       "      <td>19</td>\n",
       "      <td>3</td>\n",
       "    </tr>\n",
       "    <tr>\n",
       "      <th>9</th>\n",
       "      <td>19</td>\n",
       "      <td>72</td>\n",
       "    </tr>\n",
       "  </tbody>\n",
       "</table>\n",
       "</div>"
      ],
      "text/plain": [
       "   Annual_Income_(k$)  Spending_Score\n",
       "0                  15              39\n",
       "1                  15              81\n",
       "2                  16               6\n",
       "3                  16              77\n",
       "4                  17              40\n",
       "5                  17              76\n",
       "6                  18               6\n",
       "7                  18              94\n",
       "8                  19               3\n",
       "9                  19              72"
      ]
     },
     "execution_count": 12,
     "metadata": {},
     "output_type": "execute_result"
    }
   ],
   "source": [
    "print('label encoding data...')\n",
    "label_encoder(df, 'Genre')\n",
    "print('Removing columns that are not needed...')\n",
    "drop_cols(df, ['CustomerID', 'Genre', 'Age'])\n",
    "print('data after pre-processing...')\n",
    "df.head(10)"
   ]
  },
  {
   "cell_type": "markdown",
   "id": "7dba5c14-4cf6-4c93-9a36-9a451cd86fb2",
   "metadata": {},
   "source": [
    "#### Running K-Mean clustering and Labeling Data"
   ]
  },
  {
   "cell_type": "code",
   "execution_count": 13,
   "id": "175767a3-0c55-404b-993e-9db1e0ee4b73",
   "metadata": {},
   "outputs": [
    {
     "name": "stdout",
     "output_type": "stream",
     "text": [
      "running k-means clustering with manhattan distance...\n",
      "applying the labels based on k-means\n",
      "data after labelling...\n"
     ]
    }
   ],
   "source": [
    "print('running k-means clustering with manhattan distance...')\n",
    "print('applying the labels based on k-means')\n",
    "k_means_manhattan(df)\n",
    "print('data after labelling...')\n",
    "df['Lables'] = df['Labels'].astype(str)"
   ]
  },
  {
   "cell_type": "code",
   "execution_count": 14,
   "id": "fca8b4e4-bc71-4b41-993c-b92c22b38c75",
   "metadata": {},
   "outputs": [
    {
     "data": {
      "text/html": [
       "<div>\n",
       "<style scoped>\n",
       "    .dataframe tbody tr th:only-of-type {\n",
       "        vertical-align: middle;\n",
       "    }\n",
       "\n",
       "    .dataframe tbody tr th {\n",
       "        vertical-align: top;\n",
       "    }\n",
       "\n",
       "    .dataframe thead th {\n",
       "        text-align: right;\n",
       "    }\n",
       "</style>\n",
       "<table border=\"1\" class=\"dataframe\">\n",
       "  <thead>\n",
       "    <tr style=\"text-align: right;\">\n",
       "      <th></th>\n",
       "      <th>Annual_Income_(k$)</th>\n",
       "      <th>Spending_Score</th>\n",
       "      <th>Labels</th>\n",
       "      <th>Lables</th>\n",
       "    </tr>\n",
       "  </thead>\n",
       "  <tbody>\n",
       "    <tr>\n",
       "      <th>0</th>\n",
       "      <td>15</td>\n",
       "      <td>39</td>\n",
       "      <td>3</td>\n",
       "      <td>3</td>\n",
       "    </tr>\n",
       "    <tr>\n",
       "      <th>1</th>\n",
       "      <td>15</td>\n",
       "      <td>81</td>\n",
       "      <td>1</td>\n",
       "      <td>1</td>\n",
       "    </tr>\n",
       "    <tr>\n",
       "      <th>2</th>\n",
       "      <td>16</td>\n",
       "      <td>6</td>\n",
       "      <td>3</td>\n",
       "      <td>3</td>\n",
       "    </tr>\n",
       "    <tr>\n",
       "      <th>3</th>\n",
       "      <td>16</td>\n",
       "      <td>77</td>\n",
       "      <td>1</td>\n",
       "      <td>1</td>\n",
       "    </tr>\n",
       "    <tr>\n",
       "      <th>4</th>\n",
       "      <td>17</td>\n",
       "      <td>40</td>\n",
       "      <td>3</td>\n",
       "      <td>3</td>\n",
       "    </tr>\n",
       "    <tr>\n",
       "      <th>5</th>\n",
       "      <td>17</td>\n",
       "      <td>76</td>\n",
       "      <td>1</td>\n",
       "      <td>1</td>\n",
       "    </tr>\n",
       "    <tr>\n",
       "      <th>6</th>\n",
       "      <td>18</td>\n",
       "      <td>6</td>\n",
       "      <td>3</td>\n",
       "      <td>3</td>\n",
       "    </tr>\n",
       "    <tr>\n",
       "      <th>7</th>\n",
       "      <td>18</td>\n",
       "      <td>94</td>\n",
       "      <td>1</td>\n",
       "      <td>1</td>\n",
       "    </tr>\n",
       "    <tr>\n",
       "      <th>8</th>\n",
       "      <td>19</td>\n",
       "      <td>3</td>\n",
       "      <td>3</td>\n",
       "      <td>3</td>\n",
       "    </tr>\n",
       "    <tr>\n",
       "      <th>9</th>\n",
       "      <td>19</td>\n",
       "      <td>72</td>\n",
       "      <td>1</td>\n",
       "      <td>1</td>\n",
       "    </tr>\n",
       "  </tbody>\n",
       "</table>\n",
       "</div>"
      ],
      "text/plain": [
       "   Annual_Income_(k$)  Spending_Score  Labels Lables\n",
       "0                  15              39       3      3\n",
       "1                  15              81       1      1\n",
       "2                  16               6       3      3\n",
       "3                  16              77       1      1\n",
       "4                  17              40       3      3\n",
       "5                  17              76       1      1\n",
       "6                  18               6       3      3\n",
       "7                  18              94       1      1\n",
       "8                  19               3       3      3\n",
       "9                  19              72       1      1"
      ]
     },
     "execution_count": 14,
     "metadata": {},
     "output_type": "execute_result"
    }
   ],
   "source": [
    "df.head(10)"
   ]
  },
  {
   "cell_type": "markdown",
   "id": "fdba6f03-24ef-4acd-aacb-1bc2c0dfcfc8",
   "metadata": {},
   "source": [
    "#### Performing Algorithms"
   ]
  },
  {
   "cell_type": "code",
   "execution_count": 15,
   "id": "ed5e8e05-a7c8-4def-8771-3b9ea392ff19",
   "metadata": {},
   "outputs": [],
   "source": [
    "# splitting the data and normalizing\n",
    "X_train, X_test, y_train, y_test = train_test_split(df)"
   ]
  },
  {
   "cell_type": "markdown",
   "id": "de188d3b-432f-4dae-aac1-ca2679c6001a",
   "metadata": {},
   "source": [
    "**Logistic Regression**"
   ]
  },
  {
   "cell_type": "code",
   "execution_count": 16,
   "id": "f884dfcc-49fc-4588-872b-7f9186d7c8e2",
   "metadata": {},
   "outputs": [
    {
     "name": "stdout",
     "output_type": "stream",
     "text": [
      "performing logistic regression...\n",
      "metrics for logistic regression...\n",
      "accuracy: 0.48\n",
      "classification report:\n",
      "\n",
      "              precision    recall  f1-score   support\n",
      "\n",
      "           0       0.00      0.00      0.00        11\n",
      "           1       0.00      0.00      0.00         5\n",
      "           2       0.00      0.00      0.00        10\n",
      "           3       0.48      1.00      0.65        24\n",
      "\n",
      "    accuracy                           0.48        50\n",
      "   macro avg       0.12      0.25      0.16        50\n",
      "weighted avg       0.23      0.48      0.31        50\n",
      "\n",
      "confusion matrix for Logistic Regression\n",
      "\n"
     ]
    },
    {
     "data": {
      "image/png": "[encoded data removed]",
      "text/plain": [
       "<Figure size 640x480 with 2 Axes>"
      ]
     },
     "metadata": {},
     "output_type": "display_data"
    }
   ],
   "source": [
    "logistic_reg(X_train, X_test, y_train, y_test)"
   ]
  },
  {
   "cell_type": "markdown",
   "id": "10c578f0-f4a9-4ce3-8f1d-61dab206dd5f",
   "metadata": {},
   "source": [
    "**Decesion Tree**"
   ]
  },
  {
   "cell_type": "code",
   "execution_count": 17,
   "id": "fab719ea-0b8d-44d9-9760-f7499ef3df77",
   "metadata": {},
   "outputs": [
    {
     "name": "stdout",
     "output_type": "stream",
     "text": [
      "performing Decesion Tree...\n",
      "metrics for Decesion Tree...\n",
      "accuracy: 0.94\n",
      "classification report:\n",
      "\n",
      "              precision    recall  f1-score   support\n",
      "\n",
      "           0       0.92      1.00      0.96        11\n",
      "           1       1.00      0.80      0.89         5\n",
      "           2       1.00      0.90      0.95        10\n",
      "           3       0.92      0.96      0.94        24\n",
      "\n",
      "    accuracy                           0.94        50\n",
      "   macro avg       0.96      0.91      0.93        50\n",
      "weighted avg       0.94      0.94      0.94        50\n",
      "\n",
      "confusion matrix for Decesion Tree\n",
      "\n"
     ]
    },
    {
     "data": {
      "image/png": "[encoded data removed]",
      "text/plain": [
       "<Figure size 640x480 with 2 Axes>"
      ]
     },
     "metadata": {},
     "output_type": "display_data"
    }
   ],
   "source": [
    "decesion_tree(X_train, X_test, y_train, y_test)"
   ]
  },
  {
   "cell_type": "markdown",
   "id": "51b145be-2556-4180-9aa0-5905728c2ae5",
   "metadata": {},
   "source": [
    "**Random Forest**"
   ]
  },
  {
   "cell_type": "code",
   "execution_count": 18,
   "id": "5d7d1fba-d3d8-4106-8d0f-b8afa85862ec",
   "metadata": {},
   "outputs": [
    {
     "name": "stdout",
     "output_type": "stream",
     "text": [
      "performing Random Forest...\n",
      "metrics for Random Forest...\n",
      "accuracy: 1.0\n",
      "classification report:\n",
      "\n",
      "              precision    recall  f1-score   support\n",
      "\n",
      "           0       1.00      1.00      1.00        11\n",
      "           1       1.00      1.00      1.00         5\n",
      "           2       1.00      1.00      1.00        10\n",
      "           3       1.00      1.00      1.00        24\n",
      "\n",
      "    accuracy                           1.00        50\n",
      "   macro avg       1.00      1.00      1.00        50\n",
      "weighted avg       1.00      1.00      1.00        50\n",
      "\n",
      "confusion matrix for Random Forest\n",
      "\n"
     ]
    },
    {
     "data": {
      "image/png": "[encoded data removed]",
      "text/plain": [
       "<Figure size 640x480 with 2 Axes>"
      ]
     },
     "metadata": {},
     "output_type": "display_data"
    }
   ],
   "source": [
    "random_forest(X_train, X_test, y_train, y_test)"
   ]
  },
  {
   "cell_type": "code",
   "execution_count": 19,
   "id": "207b2a4f-2491-4db4-a393-27827a709613",
   "metadata": {},
   "outputs": [
    {
     "name": "stdout",
     "output_type": "stream",
     "text": [
      "performing Random Forest...\n",
      "metrics for Naive Bayes...\n",
      "accuracy: 0.96\n",
      "classification report:\n",
      "\n",
      "              precision    recall  f1-score   support\n",
      "\n",
      "           0       1.00      1.00      1.00        11\n",
      "           1       1.00      0.80      0.89         5\n",
      "           2       1.00      0.90      0.95        10\n",
      "           3       0.92      1.00      0.96        24\n",
      "\n",
      "    accuracy                           0.96        50\n",
      "   macro avg       0.98      0.93      0.95        50\n",
      "weighted avg       0.96      0.96      0.96        50\n",
      "\n",
      "confusion matrix for Naive Bayes\n",
      "\n"
     ]
    },
    {
     "data": {
      "image/png": "[encoded data removed]",
      "text/plain": [
       "<Figure size 640x480 with 2 Axes>"
      ]
     },
     "metadata": {},
     "output_type": "display_data"
    }
   ],
   "source": [
    "naive_bayes(X_train, X_test, y_train, y_test)"
   ]
  },
  {
   "cell_type": "markdown",
   "id": "7785dab3-288a-4a76-ba76-91a403a46d75",
   "metadata": {},
   "source": [
    "#### Conclusion\n"
   ]
  },
  {
   "cell_type": "markdown",
   "id": "3b1c4ebe-8c8d-4e25-91df-ba536adef3b0",
   "metadata": {},
   "source": [
    "Homegenity indicates that the data within one cluster are close and similiar to each other. Given that all the models (Except logistic regression) are performing extremely good and that indicates that homogenity is actually perserved in the clustering of the data by k-means cluster."
   ]
  },
  {
   "cell_type": "markdown",
   "id": "81332529-9134-4df0-aad7-df39692ead0b",
   "metadata": {},
   "source": [
    "## Question 2"
   ]
  },
  {
   "cell_type": "code",
   "execution_count": 94,
   "id": "b11fdfd6-fdb7-4691-b156-36899513ac6f",
   "metadata": {},
   "outputs": [],
   "source": [
    "def label_target(row):\n",
    "    '''\n",
    "    target variables which consist of two unique values\n",
    "    are changed to labels\n",
    "    '''\n",
    "    if row == -1.2965349:\n",
    "        return \"0\"\n",
    "    if row == 0.76993109:\n",
    "        return \"1\"\n",
    "\n",
    "    \n",
    "def load_data():\n",
    "    '''\n",
    "    load breast cancer data and normalize it\n",
    "    '''\n",
    "    cancer = load_breast_cancer()\n",
    "    df = pd.DataFrame(np.c_[cancer['data'], cancer['target']],\n",
    "                  columns= np.append(cancer['feature_names'], ['target']))\n",
    "    y = df[['target']]\n",
    "    df = df.loc[:, df.columns != 'target']\n",
    "    df_normalized=(df - df.mean()) / df.std()\n",
    "    final_df = pd.concat([df_normalized, y], axis=1)\n",
    "    final_df['target'] = final_df['target'].astype(str)\n",
    "    return final_df\n",
    "\n",
    "\n",
    "def label_target(row):\n",
    "    '''\n",
    "    target variables which consist of two unique values\n",
    "    are changed to labels\n",
    "    '''\n",
    "    if row == -1.2965349:\n",
    "        return \"0\"\n",
    "    if row == 0.76993109:\n",
    "        return \"1\"\n",
    "    \n",
    "def pca_reduction(df: 'dataframe', n: int) -> 'dataframe':\n",
    "    '''\n",
    "    peform pca reduction on dataframe \n",
    "    '''\n",
    "    X = df.loc[:, df.columns != 'target']\n",
    "    pca = decomposition.PCA(n_components=n)\n",
    "    principal_comp = pca.fit_transform(X)\n",
    "    principal_df = pd.DataFrame(data=principal_comp, columns=['principal_comp_1', 'principal_comp_2'])\n",
    "    final_df = pd.concat([principal_df, df[['target']]], axis=1)\n",
    "    \n",
    "    #plot the PCA and the old data\n",
    "    X_new = pca.inverse_transform(principal_comp)\n",
    "    plt.scatter(X['mean compactness'].values, X['mean concavity'].values, label='original columns', alpha=0.2)\n",
    "    plt.scatter(X_new[:, 0], X_new[:, 1],label='pca components', alpha=0.8)\n",
    "    plt.axis('equal')\n",
    "    plt.legend(loc=\"upper left\")\n",
    "    plt.xlabel('PCA Component 1 & Mean Compactness')\n",
    "    plt.ylabel('PCA Component 2 & Mean Concavity')\n",
    "    plt.title('PCA Components Compare to Columns')\n",
    "    \n",
    "\n",
    "    labels = {\n",
    "        str(i): f\"PC {i+1} ({var:.1f}%)\"\n",
    "        for i, var in enumerate(pca.explained_variance_ratio_ * 100)\n",
    "    }\n",
    "\n",
    "    fig = px.scatter_matrix(\n",
    "        principal_comp,\n",
    "        labels=labels,\n",
    "        dimensions=[0,1],\n",
    "        color=final_df[\"target\"]\n",
    "    )\n",
    "    fig.update_traces(diagonal_visible=False)\n",
    "    fig.show()\n",
    "    return final_df\n",
    "\n",
    "\n",
    "def lda_reduction(df: 'dataframe',n: int):\n",
    "    '''\n",
    "    performs lda reduction on datframe\n",
    "    '''\n",
    "    \n",
    "    X = df.loc[:, df.columns != 'target']\n",
    "    y = df[['target']]\n",
    "    lda = discriminant_analysis.LinearDiscriminantAnalysis(n_components=n)\n",
    "    lda_comp = lda.fit_transform(X, y)\n",
    "    lda_df = pd.DataFrame(data=lda_comp, columns=['lda_comp_1'])\n",
    "    final_df = pd.concat([lda_df, df[['target']]], axis=1)\n",
    "    print(f'variance ratio is: {lda.explained_variance_ratio_ *100}')\n",
    "    return final_df"
   ]
  },
  {
   "cell_type": "markdown",
   "id": "84d8ed92-1c62-483d-812d-a06ea861f970",
   "metadata": {},
   "source": [
    "#### Loading data"
   ]
  },
  {
   "cell_type": "code",
   "execution_count": 80,
   "id": "c75c6fb5-36ea-42eb-b8a1-dddaff4267c5",
   "metadata": {},
   "outputs": [],
   "source": [
    "df_cancer = load_data()"
   ]
  },
  {
   "cell_type": "code",
   "execution_count": 81,
   "id": "1daa8994-ccf6-481b-bfb6-e015cf4ec965",
   "metadata": {},
   "outputs": [
    {
     "data": {
      "text/html": [
       "<div>\n",
       "<style scoped>\n",
       "    .dataframe tbody tr th:only-of-type {\n",
       "        vertical-align: middle;\n",
       "    }\n",
       "\n",
       "    .dataframe tbody tr th {\n",
       "        vertical-align: top;\n",
       "    }\n",
       "\n",
       "    .dataframe thead th {\n",
       "        text-align: right;\n",
       "    }\n",
       "</style>\n",
       "<table border=\"1\" class=\"dataframe\">\n",
       "  <thead>\n",
       "    <tr style=\"text-align: right;\">\n",
       "      <th></th>\n",
       "      <th>mean radius</th>\n",
       "      <th>mean texture</th>\n",
       "      <th>mean perimeter</th>\n",
       "      <th>mean area</th>\n",
       "      <th>mean smoothness</th>\n",
       "      <th>mean compactness</th>\n",
       "      <th>mean concavity</th>\n",
       "      <th>mean concave points</th>\n",
       "      <th>mean symmetry</th>\n",
       "      <th>mean fractal dimension</th>\n",
       "      <th>...</th>\n",
       "      <th>worst texture</th>\n",
       "      <th>worst perimeter</th>\n",
       "      <th>worst area</th>\n",
       "      <th>worst smoothness</th>\n",
       "      <th>worst compactness</th>\n",
       "      <th>worst concavity</th>\n",
       "      <th>worst concave points</th>\n",
       "      <th>worst symmetry</th>\n",
       "      <th>worst fractal dimension</th>\n",
       "      <th>target</th>\n",
       "    </tr>\n",
       "  </thead>\n",
       "  <tbody>\n",
       "    <tr>\n",
       "      <th>0</th>\n",
       "      <td>1.096100</td>\n",
       "      <td>-2.071512</td>\n",
       "      <td>1.268817</td>\n",
       "      <td>0.983510</td>\n",
       "      <td>1.567087</td>\n",
       "      <td>3.280628</td>\n",
       "      <td>2.650542</td>\n",
       "      <td>2.530249</td>\n",
       "      <td>2.215566</td>\n",
       "      <td>2.253764</td>\n",
       "      <td>...</td>\n",
       "      <td>-1.358098</td>\n",
       "      <td>2.301575</td>\n",
       "      <td>1.999478</td>\n",
       "      <td>1.306537</td>\n",
       "      <td>2.614365</td>\n",
       "      <td>2.107672</td>\n",
       "      <td>2.294058</td>\n",
       "      <td>2.748204</td>\n",
       "      <td>1.935312</td>\n",
       "      <td>0.0</td>\n",
       "    </tr>\n",
       "    <tr>\n",
       "      <th>1</th>\n",
       "      <td>1.828212</td>\n",
       "      <td>-0.353322</td>\n",
       "      <td>1.684473</td>\n",
       "      <td>1.907030</td>\n",
       "      <td>-0.826235</td>\n",
       "      <td>-0.486643</td>\n",
       "      <td>-0.023825</td>\n",
       "      <td>0.547662</td>\n",
       "      <td>0.001391</td>\n",
       "      <td>-0.867889</td>\n",
       "      <td>...</td>\n",
       "      <td>-0.368879</td>\n",
       "      <td>1.533776</td>\n",
       "      <td>1.888827</td>\n",
       "      <td>-0.375282</td>\n",
       "      <td>-0.430066</td>\n",
       "      <td>-0.146620</td>\n",
       "      <td>1.086129</td>\n",
       "      <td>-0.243675</td>\n",
       "      <td>0.280943</td>\n",
       "      <td>0.0</td>\n",
       "    </tr>\n",
       "    <tr>\n",
       "      <th>2</th>\n",
       "      <td>1.578499</td>\n",
       "      <td>0.455786</td>\n",
       "      <td>1.565126</td>\n",
       "      <td>1.557513</td>\n",
       "      <td>0.941382</td>\n",
       "      <td>1.052000</td>\n",
       "      <td>1.362280</td>\n",
       "      <td>2.035440</td>\n",
       "      <td>0.938859</td>\n",
       "      <td>-0.397658</td>\n",
       "      <td>...</td>\n",
       "      <td>-0.023953</td>\n",
       "      <td>1.346291</td>\n",
       "      <td>1.455004</td>\n",
       "      <td>0.526944</td>\n",
       "      <td>1.081980</td>\n",
       "      <td>0.854222</td>\n",
       "      <td>1.953282</td>\n",
       "      <td>1.151242</td>\n",
       "      <td>0.201214</td>\n",
       "      <td>0.0</td>\n",
       "    </tr>\n",
       "    <tr>\n",
       "      <th>3</th>\n",
       "      <td>-0.768233</td>\n",
       "      <td>0.253509</td>\n",
       "      <td>-0.592166</td>\n",
       "      <td>-0.763792</td>\n",
       "      <td>3.280667</td>\n",
       "      <td>3.399917</td>\n",
       "      <td>1.914213</td>\n",
       "      <td>1.450431</td>\n",
       "      <td>2.864862</td>\n",
       "      <td>4.906602</td>\n",
       "      <td>...</td>\n",
       "      <td>0.133866</td>\n",
       "      <td>-0.249720</td>\n",
       "      <td>-0.549538</td>\n",
       "      <td>3.391291</td>\n",
       "      <td>3.889975</td>\n",
       "      <td>1.987839</td>\n",
       "      <td>2.173873</td>\n",
       "      <td>6.040726</td>\n",
       "      <td>4.930672</td>\n",
       "      <td>0.0</td>\n",
       "    </tr>\n",
       "    <tr>\n",
       "      <th>4</th>\n",
       "      <td>1.748758</td>\n",
       "      <td>-1.150804</td>\n",
       "      <td>1.775011</td>\n",
       "      <td>1.824624</td>\n",
       "      <td>0.280125</td>\n",
       "      <td>0.538866</td>\n",
       "      <td>1.369806</td>\n",
       "      <td>1.427237</td>\n",
       "      <td>-0.009552</td>\n",
       "      <td>-0.561956</td>\n",
       "      <td>...</td>\n",
       "      <td>-1.465481</td>\n",
       "      <td>1.337363</td>\n",
       "      <td>1.219651</td>\n",
       "      <td>0.220362</td>\n",
       "      <td>-0.313119</td>\n",
       "      <td>0.612640</td>\n",
       "      <td>0.728618</td>\n",
       "      <td>-0.867590</td>\n",
       "      <td>-0.396751</td>\n",
       "      <td>0.0</td>\n",
       "    </tr>\n",
       "    <tr>\n",
       "      <th>5</th>\n",
       "      <td>-0.475956</td>\n",
       "      <td>-0.834601</td>\n",
       "      <td>-0.386808</td>\n",
       "      <td>-0.505206</td>\n",
       "      <td>2.235455</td>\n",
       "      <td>1.243242</td>\n",
       "      <td>0.865540</td>\n",
       "      <td>0.823931</td>\n",
       "      <td>1.004518</td>\n",
       "      <td>1.888343</td>\n",
       "      <td>...</td>\n",
       "      <td>-0.313560</td>\n",
       "      <td>-0.114908</td>\n",
       "      <td>-0.244105</td>\n",
       "      <td>2.046712</td>\n",
       "      <td>1.720103</td>\n",
       "      <td>1.262133</td>\n",
       "      <td>0.905091</td>\n",
       "      <td>1.752527</td>\n",
       "      <td>2.239831</td>\n",
       "      <td>0.0</td>\n",
       "    </tr>\n",
       "    <tr>\n",
       "      <th>6</th>\n",
       "      <td>1.169878</td>\n",
       "      <td>0.160508</td>\n",
       "      <td>1.137124</td>\n",
       "      <td>1.094332</td>\n",
       "      <td>-0.123028</td>\n",
       "      <td>0.088218</td>\n",
       "      <td>0.299809</td>\n",
       "      <td>0.646366</td>\n",
       "      <td>-0.064268</td>\n",
       "      <td>-0.761662</td>\n",
       "      <td>...</td>\n",
       "      <td>0.322599</td>\n",
       "      <td>1.367122</td>\n",
       "      <td>1.274098</td>\n",
       "      <td>0.518184</td>\n",
       "      <td>0.021196</td>\n",
       "      <td>0.509104</td>\n",
       "      <td>1.195664</td>\n",
       "      <td>0.262245</td>\n",
       "      <td>-0.014718</td>\n",
       "      <td>0.0</td>\n",
       "    </tr>\n",
       "    <tr>\n",
       "      <th>7</th>\n",
       "      <td>-0.118413</td>\n",
       "      <td>0.358135</td>\n",
       "      <td>-0.072803</td>\n",
       "      <td>-0.218772</td>\n",
       "      <td>1.602639</td>\n",
       "      <td>1.139100</td>\n",
       "      <td>0.060972</td>\n",
       "      <td>0.281702</td>\n",
       "      <td>1.402121</td>\n",
       "      <td>1.658894</td>\n",
       "      <td>...</td>\n",
       "      <td>0.400695</td>\n",
       "      <td>0.099361</td>\n",
       "      <td>0.028834</td>\n",
       "      <td>1.446688</td>\n",
       "      <td>0.724148</td>\n",
       "      <td>-0.021035</td>\n",
       "      <td>0.623647</td>\n",
       "      <td>0.477221</td>\n",
       "      <td>1.724917</td>\n",
       "      <td>0.0</td>\n",
       "    </tr>\n",
       "    <tr>\n",
       "      <th>8</th>\n",
       "      <td>-0.319885</td>\n",
       "      <td>0.588312</td>\n",
       "      <td>-0.183919</td>\n",
       "      <td>-0.383870</td>\n",
       "      <td>2.199903</td>\n",
       "      <td>1.682529</td>\n",
       "      <td>1.218025</td>\n",
       "      <td>1.149680</td>\n",
       "      <td>1.963872</td>\n",
       "      <td>1.571079</td>\n",
       "      <td>...</td>\n",
       "      <td>0.822090</td>\n",
       "      <td>-0.031581</td>\n",
       "      <td>-0.248145</td>\n",
       "      <td>1.661295</td>\n",
       "      <td>1.816711</td>\n",
       "      <td>1.278909</td>\n",
       "      <td>1.390393</td>\n",
       "      <td>2.387756</td>\n",
       "      <td>1.287517</td>\n",
       "      <td>0.0</td>\n",
       "    </tr>\n",
       "    <tr>\n",
       "      <th>9</th>\n",
       "      <td>-0.473118</td>\n",
       "      <td>1.104467</td>\n",
       "      <td>-0.329192</td>\n",
       "      <td>-0.508616</td>\n",
       "      <td>1.581308</td>\n",
       "      <td>2.561105</td>\n",
       "      <td>1.737343</td>\n",
       "      <td>0.940932</td>\n",
       "      <td>0.796597</td>\n",
       "      <td>2.780649</td>\n",
       "      <td>...</td>\n",
       "      <td>2.440961</td>\n",
       "      <td>-0.286026</td>\n",
       "      <td>-0.297148</td>\n",
       "      <td>2.318256</td>\n",
       "      <td>5.108382</td>\n",
       "      <td>3.991920</td>\n",
       "      <td>1.618591</td>\n",
       "      <td>2.368360</td>\n",
       "      <td>6.840837</td>\n",
       "      <td>0.0</td>\n",
       "    </tr>\n",
       "  </tbody>\n",
       "</table>\n",
       "<p>10 rows × 31 columns</p>\n",
       "</div>"
      ],
      "text/plain": [
       "   mean radius  mean texture  mean perimeter  mean area  mean smoothness  \\\n",
       "0     1.096100     -2.071512        1.268817   0.983510         1.567087   \n",
       "1     1.828212     -0.353322        1.684473   1.907030        -0.826235   \n",
       "2     1.578499      0.455786        1.565126   1.557513         0.941382   \n",
       "3    -0.768233      0.253509       -0.592166  -0.763792         3.280667   \n",
       "4     1.748758     -1.150804        1.775011   1.824624         0.280125   \n",
       "5    -0.475956     -0.834601       -0.386808  -0.505206         2.235455   \n",
       "6     1.169878      0.160508        1.137124   1.094332        -0.123028   \n",
       "7    -0.118413      0.358135       -0.072803  -0.218772         1.602639   \n",
       "8    -0.319885      0.588312       -0.183919  -0.383870         2.199903   \n",
       "9    -0.473118      1.104467       -0.329192  -0.508616         1.581308   \n",
       "\n",
       "   mean compactness  mean concavity  mean concave points  mean symmetry  \\\n",
       "0          3.280628        2.650542             2.530249       2.215566   \n",
       "1         -0.486643       -0.023825             0.547662       0.001391   \n",
       "2          1.052000        1.362280             2.035440       0.938859   \n",
       "3          3.399917        1.914213             1.450431       2.864862   \n",
       "4          0.538866        1.369806             1.427237      -0.009552   \n",
       "5          1.243242        0.865540             0.823931       1.004518   \n",
       "6          0.088218        0.299809             0.646366      -0.064268   \n",
       "7          1.139100        0.060972             0.281702       1.402121   \n",
       "8          1.682529        1.218025             1.149680       1.963872   \n",
       "9          2.561105        1.737343             0.940932       0.796597   \n",
       "\n",
       "   mean fractal dimension  ...  worst texture  worst perimeter  worst area  \\\n",
       "0                2.253764  ...      -1.358098         2.301575    1.999478   \n",
       "1               -0.867889  ...      -0.368879         1.533776    1.888827   \n",
       "2               -0.397658  ...      -0.023953         1.346291    1.455004   \n",
       "3                4.906602  ...       0.133866        -0.249720   -0.549538   \n",
       "4               -0.561956  ...      -1.465481         1.337363    1.219651   \n",
       "5                1.888343  ...      -0.313560        -0.114908   -0.244105   \n",
       "6               -0.761662  ...       0.322599         1.367122    1.274098   \n",
       "7                1.658894  ...       0.400695         0.099361    0.028834   \n",
       "8                1.571079  ...       0.822090        -0.031581   -0.248145   \n",
       "9                2.780649  ...       2.440961        -0.286026   -0.297148   \n",
       "\n",
       "   worst smoothness  worst compactness  worst concavity  worst concave points  \\\n",
       "0          1.306537           2.614365         2.107672              2.294058   \n",
       "1         -0.375282          -0.430066        -0.146620              1.086129   \n",
       "2          0.526944           1.081980         0.854222              1.953282   \n",
       "3          3.391291           3.889975         1.987839              2.173873   \n",
       "4          0.220362          -0.313119         0.612640              0.728618   \n",
       "5          2.046712           1.720103         1.262133              0.905091   \n",
       "6          0.518184           0.021196         0.509104              1.195664   \n",
       "7          1.446688           0.724148        -0.021035              0.623647   \n",
       "8          1.661295           1.816711         1.278909              1.390393   \n",
       "9          2.318256           5.108382         3.991920              1.618591   \n",
       "\n",
       "   worst symmetry  worst fractal dimension  target  \n",
       "0        2.748204                 1.935312     0.0  \n",
       "1       -0.243675                 0.280943     0.0  \n",
       "2        1.151242                 0.201214     0.0  \n",
       "3        6.040726                 4.930672     0.0  \n",
       "4       -0.867590                -0.396751     0.0  \n",
       "5        1.752527                 2.239831     0.0  \n",
       "6        0.262245                -0.014718     0.0  \n",
       "7        0.477221                 1.724917     0.0  \n",
       "8        2.387756                 1.287517     0.0  \n",
       "9        2.368360                 6.840837     0.0  \n",
       "\n",
       "[10 rows x 31 columns]"
      ]
     },
     "execution_count": 81,
     "metadata": {},
     "output_type": "execute_result"
    }
   ],
   "source": [
    "df_cancer.head(10)"
   ]
  },
  {
   "cell_type": "markdown",
   "id": "fefc265c-3a8e-4b50-baf9-866cda845953",
   "metadata": {},
   "source": [
    "#### Applying pca reduction "
   ]
  },
  {
   "cell_type": "code",
   "execution_count": 82,
   "id": "a44bf233-4e3b-4ffe-b785-99f128393079",
   "metadata": {},
   "outputs": [
    {
     "data": {
      "application/vnd.plotly.v1+json": {
       "config": {
        "plotlyServerURL": "https://plot.ly"
       },
       "data": [
        {
         "diagonal": {
          "visible": false
         },
         "dimensions": [
          {
           "axis": {
            "matches": true
           },
           "label": "PC 1 (44.3%)",
           "values": [
            9.184755209858876,
            2.385702628982489,
            5.728855490819061,
            7.116691259621247,
            3.931842466790788,
            2.3781546249741177,
            2.2369150586098923,
            2.141414281551426,
            3.1721331503085586,
            6.346162835225199,
            -0.8097013190409753,
            2.648769839009661,
            8.177838822068408,
            0.34182514389773727,
            4.338561717694899,
            4.072073180213604,
            0.22985276950318442,
            4.414126949591795,
            4.944353041108237,
            4.729049722976268,
            4.204824406832212,
            4.945280748242376,
            7.092322358888264,
            3.5071766582289703,
            3.0613602117964476,
            4.003741273398042,
            1.7138017616568726,
            6.054118527408613,
            2.8996846881505367,
            4.550778483480254,
            4.986215378575254,
            2.982716313044668,
            2.763937184421653,
            1.2950592494027402,
            -0.9971914775009347,
            0.7645913556043108,
            -2.149062522258769,
            -0.09324933698075243,
            9.080010225451204,
            0.9895830367496629,
            -0.2932884879763186,
            5.376209908961658,
            1.6985123749993787,
            3.2996476093220815,
            -0.6740262135578274,
            4.644652068242306,
            2.174949156248373,
            4.754928318196902,
            1.690120795036949,
            1.8107121691780488,
            2.7022185052057623,
            5.498866892103175,
            -0.36139120652866175,
            1.4269120607028483,
            6.225418799624529,
            11.658456435666976,
            10.759775351229631,
            5.030384877079445,
            3.2853446277776075,
            0.6070737842436211,
            3.5804132398493347,
            0.25227559160038465,
            2.7734252471515553,
            4.392363138171204,
            0.6157390843403029,
            -0.432479684285134,
            3.2110913432991843,
            13.044643947118608,
            3.1077931629832896,
            4.952368008219367,
            0.8502661181132362,
            3.331202091345591,
            12.883276209022872,
            -0.6383188466749993,
            1.9174462720607188,
            4.639608949805764,
            1.4308104644206607,
            1.351437902504764,
            2.1695070807760213,
            -1.9751024733516924,
            3.7787015965150004,
            1.3438380019594074,
            2.3978879545325227,
            4.097182637787087,
            3.3843528908657228,
            6.14447969556725,
            5.489322772303504,
            1.21256768041447,
            5.06520423570707,
            -0.9466549351986322,
            2.816889777410306,
            2.9537029199454996,
            9.504307055873692,
            8.999247137485847,
            0.7582113387113766,
            -0.3896761071631482,
            0.36455538153537065,
            6.517382011166498,
            1.7780969513569596,
            2.6091890818216807,
            2.4962424475167615,
            1.2759045138293506,
            3.4701439819584574,
            1.2555703424425253,
            1.6480106203166505,
            9.028645224281531,
            4.550586028792218,
            -0.2228964813775279,
            0.44615182983916035,
            4.804741578644494,
            12.274219740082938,
            3.369232021639297,
            2.50656080235079,
            1.3169097348008065,
            4.939235008379045,
            4.294298799576701,
            1.8016617480543058,
            2.753145523321846,
            3.2543911523332625,
            3.313408663113152,
            8.396459114567016,
            2.645241099769435,
            3.347350475085278,
            3.792228880176232,
            7.13756173714533,
            7.078782066793529,
            1.3129437515041291,
            3.7083865255645256,
            0.46007427398634093,
            6.387030007430588,
            5.2509246895886434,
            8.726183381467346,
            3.68807276498126,
            3.375280981244704,
            -0.8394710078446498,
            3.2814852588699543,
            -1.907090889193871,
            1.6133623365756724,
            6.613906806066323,
            7.6694012070934665,
            0.33704892512039764,
            0.01741546771166466,
            4.955907441716643,
            3.7817325769149814,
            2.6349373102067597,
            -2.383785278667137,
            6.58444232820839,
            7.176618434402307,
            1.8936500638857112,
            1.833227420271375,
            7.230123567830932,
            2.2485319030586255,
            2.10594821545167,
            1.784379914098976,
            3.316755576255545,
            4.6760518297257585,
            7.3467542058003055,
            4.970788588463166,
            6.176848765923808,
            10.924685586759223,
            2.1166345166822804,
            2.732607365257556,
            6.221551679069606,
            5.302474403497527,
            7.241629190977252,
            4.203521962751302,
            3.631819328529865,
            3.5161544297781053,
            3.7626214438790315,
            -0.5424240881520017,
            4.6993657852013015,
            4.1454497836405215,
            7.665396811496003,
            6.284144085196446,
            2.760941448865484,
            -0.9332696314803431,
            5.998338685657199,
            4.9455069367868445,
            4.5451119272644505,
            4.438437461052477,
            0.6638567906972639,
            2.470183415767339,
            0.9808644845489033,
            3.24256053745164,
            4.327845296903513,
            2.509544967238594,
            3.472438368420945,
            16.304886649594245,
            5.925750823534576,
            3.8210709033524783,
            4.750434988655838,
            -0.7411296510979622,
            3.1007913344299487,
            3.7124385488948692,
            5.090362861090221,
            2.78794673020841,
            7.252797143875166,
            4.090543310340469,
            2.2250366914743656,
            -0.7331273774331057,
            2.6948525682230855,
            3.376044104802947,
            8.623168379951073,
            4.024893778841477,
            5.160869926813582,
            0.5354608003699242,
            5.912410291355508,
            8.733653382967207,
            6.4336545461706045,
            3.790047527744111,
            1.2550749425071965,
            10.365673359932426
           ]
          },
          {
           "axis": {
            "matches": true
           },
           "label": "PC 2 (19.0%)",
           "values": [
            1.9468700304117517,
            -3.7648590630075245,
            -1.074228588727802,
            10.266555635071557,
            -1.9463589770593346,
            3.9464564299162697,
            -2.6876664141947613,
            2.3381866491660697,
            3.3888311376990865,
            7.720380945507321,
            -2.6569376726575205,
            0.06650940527999644,
            2.698602007243957,
            -0.9674280261788807,
            4.856809831843984,
            2.974443983228813,
            -1.563382113854474,
            1.4174231504636672,
            -4.110716527784619,
            3.3020582651264707,
            -5.123858059017247,
            -1.5423951430302976,
            2.01683573426334,
            2.169715994291878,
            -1.874902631019256,
            0.5367698596441152,
            -1.5223655018199018,
            -0.7565118002074435,
            4.0017743727739505,
            0.33723941880609365,
            -1.1315932229319516,
            0.7577564966672896,
            -0.3540444207277226,
            0.9123934661742971,
            -3.348346731030744,
            0.8854648371576582,
            -1.9223001943094669,
            2.2587645315138283,
            2.016898441298437,
            0.9840641476600525,
            -0.13697856413303844,
            -0.13475840449510665,
            2.3502038619957415,
            -1.1299435737047303,
            -2.1145491365539444,
            -2.308301508293563,
            0.9712614383018475,
            3.009032874688699,
            1.5393221158918395,
            0.722104815053899,
            -4.433240984911182,
            0.9375005134821793,
            0.11963382119500118,
            -1.9653720916471722,
            0.9192606901534728,
            4.744442593099886,
            -2.2559978577743984,
            0.7737283569362395,
            -1.6667704797583378,
            0.16207191876411736,
            -2.204721916296623,
            -0.530884424905669,
            0.557509976777012,
            -2.1216408918281426,
            0.6383499883089431,
            -1.390820523330115,
            4.0431986340641,
            0.9806503575142124,
            1.5680098728021012,
            2.3827496502258234,
            -2.304707467953076,
            -1.3243920287684978,
            2.3145858729463127,
            -0.9105648277503414,
            -3.5349719657005725,
            -1.4807142968445155,
            -1.0486812201516216,
            -1.1531268416584857,
            -2.823776100833049,
            -0.4190187545998755,
            0.8596252179030975,
            -1.2736502780619203,
            4.8337356419203745,
            -0.37847080573759345,
            -2.908477953212628,
            -2.0158789937600856,
            -4.162167037290407,
            -2.0372463953296247,
            -1.7835829692602267,
            -1.6832724441377531,
            1.2639909533876275,
            0.7058008217887114,
            -5.598558051807337,
            0.5805202806512357,
            -1.6071184808318135,
            -0.988372689156326,
            -3.5713188418284627,
            8.004126823773433,
            2.7741462134384482,
            1.5600490304759647,
            2.276479789841523,
            -2.4411110438736197,
            -2.275846405120362,
            0.38205709439252417,
            -2.1004429023231443,
            -0.6545968488297598,
            3.0839256264022956,
            -0.701204504200428,
            -2.785257008225064,
            -3.0264400192345953,
            -7.536778598577108,
            2.585550416167843,
            2.61234988499783,
            2.1525854528361075,
            -2.8458204357640766,
            -4.662172958422218,
            0.16631461788936067,
            3.4627267693225,
            -0.12509042563115177,
            -3.935689267588446,
            -4.150252991499116,
            -3.9476993921984693,
            -2.1526758988203896,
            -1.0253304591933325,
            -2.0730181951071196,
            0.5277587995770016,
            -1.7738650170556962,
            -2.8050089984138356,
            0.3938197686376851,
            -1.821491442858972,
            3.891107225654948,
            3.2769939657680576,
            1.0647092355423284,
            -3.36826417464544,
            -3.4970080337697547,
            -0.9898022793071971,
            -3.119201237199818,
            -2.4723978983738406,
            -5.9979988109261395,
            -3.0726027374712763,
            -3.141609172777042,
            -3.4563021097156543,
            -1.3399440378888499,
            -1.9002354094384373,
            0.5766476067700663,
            -0.8233910735784966,
            -1.4835570760876788,
            0.055097580138189786,
            -2.390134936271964,
            -4.317723822661216,
            -0.03567041093190182,
            -0.34822953511934296,
            1.1209875925445605,
            -0.268984957259188,
            -1.5756664220548715,
            -0.9677414435217176,
            -5.238014242213246,
            -1.3314006873832023,
            5.103514894374824,
            -3.699998471841284,
            0.29636829671913684,
            -3.9416999500838092,
            -1.3888876164004071,
            -6.717504287928117,
            -3.6522555296954793,
            1.1752088219457562,
            -1.9547209619771515,
            -3.855214937416292,
            5.9800335493300345,
            -1.3159100480537258,
            -0.19578348604755957,
            0.7668141287438219,
            -0.8597276808959731,
            2.0347570255260736,
            -1.0776852596153443,
            -2.104094210079025,
            -0.09094919648315507,
            3.0034214350112376,
            -0.8152831423353746,
            -0.9915664239786327,
            0.43647680206604733,
            -1.4985062241692688,
            -2.2084867116028173,
            -1.7767952397587985,
            -4.045772564972587,
            -2.52658445539259,
            -1.6714137233901574,
            -7.769016888349087,
            1.2272168607727865,
            2.3032097346364258,
            -1.4881141767598962,
            -2.449879330571859,
            -1.235066483043068,
            -1.0577555061784711,
            -2.017432705920664,
            3.3825844540617287,
            -5.490904302384872,
            2.80046313725841,
            1.9399278270249372,
            -1.941988438305373,
            -1.9420011894326972,
            -2.3313775784546604,
            -3.4564106380822732,
            -2.9388442248905733,
            -2.3801089864880165,
            0.3803804509597852,
            3.479574999910503,
            -0.5733501846756955,
            -3.5736729885153897,
            -3.5808970520333134,
            -1.900624363997524,
            1.6705402061155423
           ]
          }
         ],
         "hovertemplate": "color=0.0<br>%{xaxis.title.text}=%{x}<br>%{yaxis.title.text}=%{y}<extra></extra>",
         "legendgroup": "0.0",
         "marker": {
          "color": "#636efa",
          "symbol": "circle"
         },
         "name": "0.0",
         "showlegend": true,
         "type": "splom"
        },
        {
         "diagonal": {
          "visible": false
         },
         "dimensions": [
          {
           "axis": {
            "matches": true
           },
           "label": "PC 1 (44.3%)",
           "values": [
            -1.2359758285191225,
            -1.5767738400518272,
            -3.5542090442654692,
            -3.746017295612643,
            -4.577908595212478,
            -2.13456708327066,
            -1.566100993427785,
            -3.5397909146133864,
            -3.155037949380894,
            -3.4474551464077843,
            -2.8556457728003823,
            -3.71818737989838,
            -4.132326931707896,
            -2.3837382247834333,
            -2.576616101418654,
            -2.312097847000757,
            -2.783475591571819,
            -3.5155550218280336,
            4.32619605261331,
            -3.2584124133410404,
            -0.3075851279890907,
            -2.6276645707416892,
            -0.8337842392555428,
            -2.0198004469637256,
            -1.6369445986800806,
            1.1664352709963703,
            -2.1725526922012546,
            -0.9333368663417133,
            1.2584973023904393,
            -1.586867695889226,
            -2.8449283496524735,
            -1.9632226839333176,
            -2.5898040732305474,
            -3.9009057643024745,
            -2.81575364676177,
            -4.551024418715445,
            -3.4451521704854233,
            -2.114100078823379,
            -2.6889861805882926,
            -0.7486126561287807,
            -3.1562288887131005,
            -2.226720534106619,
            -2.4906395353764634,
            -0.10325956887870386,
            3.5881369364375884,
            -1.3477627936910317,
            -2.5079109782744595,
            -2.0442308647877327,
            -2.0952255918004727,
            -2.9633917342885563,
            -0.7700661005416841,
            -2.2005792460245206,
            -3.1406488057317343,
            1.407629797559195,
            -1.8758168425358381,
            -0.7084914339488801,
            -2.598503095223776,
            -3.255143176621198,
            -1.9902834824907387,
            -5.010599890275246,
            -2.4538097168107975,
            -1.8356664765287212,
            -4.342668621633069,
            -0.7321686848842189,
            0.39275308262178676,
            -0.4119653267362936,
            -3.047243687238263,
            -1.4412955434660328,
            0.08311297195903346,
            7.0870708389493124,
            -3.740113637267296,
            -0.9683207941410874,
            -2.416593560539951,
            -0.7509422555126954,
            -3.6514336515637225,
            -4.6760971035023555,
            -0.5972562440800094,
            -1.3238664840948293,
            -2.994768126879621,
            -4.382876252034884,
            -1.9759628006689065,
            -2.5126655380943803,
            -3.4809234523308064,
            -4.654633990732199,
            -5.346913394805241,
            1.169868418021593,
            -4.971327817743066,
            -4.060452888239642,
            -2.657021716338465,
            -3.8856465678206464,
            -2.83339782675759,
            -3.3073734807303152,
            -3.3543529255867552,
            -1.7162250789579265,
            -5.560842943398727,
            -2.816560233520026,
            -1.4721360446853171,
            -0.7805032063552324,
            -3.4518581148396352,
            0.314161796698376,
            -2.0573816635646405,
            -2.9960742986927937,
            -0.38841453491045513,
            -2.7545093134335614,
            -2.3714152065809495,
            -0.9663400342412422,
            -2.973182700588703,
            -2.476180734357798,
            -0.8253131039081694,
            -3.8912734179385153,
            -0.389235603918024,
            -1.4560401949184856,
            -4.015606929779546,
            -3.673181280856329,
            -4.033058695259517,
            -2.332181276558681,
            -0.6811695085597317,
            -2.2257620828201943,
            -4.473648316810706,
            1.321458674509768,
            -1.8484634072018267,
            -2.2793125444788758,
            -3.2259316385038095,
            1.0249988966721515,
            -2.580285458084804,
            -2.483697833237316,
            -3.029815222770886,
            -1.4633883060156243,
            -2.0103835029649386,
            -2.2823320404718337,
            -0.7390927619275083,
            -4.5026006967194965,
            -3.1559773740122696,
            -3.635936726130319,
            -1.2754611078320466,
            -4.3421933817958855,
            -3.4893557720452106,
            -1.8649079312978376,
            -2.4685506209044545,
            -1.3714782673685464,
            -4.135243994469327,
            -0.6863363877212377,
            -4.308338698860447,
            0.40295486357489196,
            -3.0009652622437244,
            3.1312530328585284,
            -0.41746953769712897,
            -1.4189745870297685,
            -2.868064753146442,
            -3.362886718265051,
            -3.312085868422375,
            -4.765517007100833,
            -2.7846458146634685,
            -3.3908581737797956,
            -1.45405110620502,
            -3.5756891739127985,
            -3.054345140130371,
            -3.0717330303073522,
            -3.8501520053628573,
            -5.385517705918503,
            -4.653587667914714,
            -4.024001690818735,
            -3.3448788008728734,
            -3.2969410508974466,
            -2.1345259845003213,
            -4.034467235871244,
            -3.7621042980663795,
            -4.866956974403863,
            -4.743075110258735,
            1.5715483437346127,
            -4.0230803660386805,
            -1.2937278259891947,
            -1.8087890152352526,
            -3.1428847812274077,
            -2.884729800115247,
            -3.1468850567065347,
            -4.624310577223514,
            -0.5272327081977655,
            -3.2106759241477394,
            -4.382566769758065,
            -3.8066684029240347,
            -2.3911719850536772,
            -3.0649982652345766,
            0.29505356721234083,
            -1.9372649080483912,
            -2.075352829718516,
            -2.1750031061333437,
            -2.4294138269430374,
            -3.3650049292694506,
            -1.2055370449973914,
            -3.3231552224306378,
            -1.9270997575978208,
            -4.03828182765014,
            -3.009546886156347,
            -0.9817847142178995,
            0.35757923049029827,
            -3.191110025081218,
            -2.9906018868445865,
            -3.1911063133100943,
            -4.587924963183547,
            -2.4837307331946725,
            -2.3965566290158833,
            -0.7789298236156555,
            -3.137227995833938,
            -2.2218207775129812,
            -2.4974388911606638,
            -2.6126494511410954,
            -0.09602362590837801,
            2.0430592577934963,
            -3.064053483495565,
            -1.6021766967898559,
            -0.924752918124669,
            -3.2854587367561527,
            -1.5534852463994338,
            -0.39842934176185213,
            -2.2985453437370897,
            -2.0570095043099483,
            -3.4215074893256485,
            -0.4719912493097215,
            -3.6401772663566874,
            -3.591529176522861,
            -2.0086120468983233,
            -2.918265728630794,
            -0.5002975911258621,
            -1.909818136290506,
            -3.7817716673916655,
            -2.7060129620668762,
            -3.427754628509675,
            -1.999629003661087,
            -2.4711187702675104,
            -3.644051365338025,
            -2.3441242686967483,
            -1.1419920938905737,
            -1.3496697362423837,
            -1.9675923312030954,
            -2.9286101872008703,
            -2.9238017488302415,
            -3.9926751441797057,
            0.15500167433489367,
            -1.9279253591753895,
            -2.6200332486414197,
            -2.9193091202940344,
            -3.339006829927372,
            -2.0131436791939166,
            1.9867140066591673,
            -1.6681361466415825,
            -0.37085180302598225,
            -1.8473344702439758,
            -4.698907658716757,
            -1.2820590739520819,
            -2.3122123162134574,
            -4.654989276563035,
            -3.9400065912785274,
            -0.9149984171806591,
            -2.1930546441192287,
            -2.2389060523360764,
            -2.1233121460649937,
            -2.613018230636086,
            -3.2081451461269204,
            -0.3064807279755404,
            -3.451681256473374,
            -3.897097812803917,
            -1.2561462947029913,
            -1.5558504281734717,
            -1.2481598476097315,
            -1.0765041197499101,
            -2.2151432129344393,
            -1.1727987075491924,
            -2.833807992032277,
            -1.8554532955712513,
            -1.3274463600966913,
            -2.8003073814807524,
            -3.1717779665128223,
            -4.083484325194246,
            -2.5578643670165273,
            -2.9662787832843134,
            -2.755006335869304,
            1.3691351808117926,
            -0.41729731490598515,
            -3.8350242059570885,
            0.6449111936209432,
            -2.681486975115724,
            -2.039869182262217,
            -1.398066199236735,
            -3.533306358293324,
            -1.9887795302555606,
            -1.9964287203130044,
            -0.5202003908111913,
            -3.1695815905765867,
            -2.200773740164567,
            -2.982860087893462,
            -2.4788739595090314,
            -1.2709931213159316,
            -2.2331919146098365,
            -0.05613371256207939,
            2.315353339419751,
            -2.2823230571574413,
            -1.7247932814230813,
            -2.8917662115874023,
            -1.6530673209399147,
            -4.060697611933889,
            -2.7908749816849934,
            -1.4736233044459575,
            -0.2291929713893435,
            -2.5510137844037097,
            -0.6000880992881286,
            -1.407532733971181,
            1.2977246878630115,
            1.0757467319115326,
            -1.2486618339883935,
            -1.255823413400556,
            -1.1655096888161445,
            -1.885979777969439,
            -2.7650027918677664,
            -1.1305820976817056,
            -2.331619157745089,
            -0.19969486970748793,
            -1.1749920441007755,
            -1.2915001552911616,
            -4.42556234273412,
            -0.6192938271624334,
            -3.2494565893616945,
            -3.3499794247879198,
            -0.8590471150996153,
            -3.153846915866272,
            0.34622347304993795,
            -2.459242776527404,
            -1.5287555778359596,
            -1.7720258700967038,
            -2.6780851913134964,
            -2.134473117265623,
            0.34282173595447785,
            -4.19339024498534,
            -1.1418271770488242,
            -1.6640109989531682,
            1.0108230779795089,
            -1.2997860372752719,
            -2.3713421938590407,
            -1.664406509523943,
            -1.925983529896294,
            -4.233491591622615,
            -2.6755165483249685,
            -3.833125105779701,
            -2.549197271080591,
            -4.690796039132288,
            -2.023256911331005,
            -2.893402316494342,
            -3.4991221818910305,
            -2.152010125344273,
            -2.0532774003295193,
            -3.873880972515203,
            -4.060289488002488,
            -0.09858059215939066,
            -1.0884184965310701,
            -0.48134742985151585,
            -4.8660279264742,
            -5.470429900908333
           ]
          },
          {
           "axis": {
            "matches": true
           },
           "label": "PC 2 (19.0%)",
           "values": [
            -0.18804949003111904,
            0.5723046247817384,
            1.6614879693583648,
            -1.4122305036828176,
            1.4829155084645693,
            0.09574536367636131,
            -1.2073708547283506,
            -1.2813681096190495,
            -1.6874737964988704,
            -0.4977807195873526,
            0.15258887410400993,
            -1.7860700970438164,
            2.4016792608826023,
            2.7552338144097166,
            3.135912650187637,
            3.265116720737291,
            2.3086173723696595,
            -0.6577307355414069,
            9.194435551727752,
            -0.9370136471236091,
            7.381317395894935,
            -0.6966963492642273,
            1.963876859759211,
            -0.2546757461648132,
            1.7144405868960413,
            2.512305286196477,
            0.4964411689318455,
            0.926885919021971,
            1.0146842550604347,
            -1.6182329540197589,
            -2.891103731922348,
            -0.9643084982633481,
            0.21344611980675504,
            1.1890204211593929,
            0.3675605667285116,
            3.525683787825931,
            -1.4233700401200406,
            1.8477477817714378,
            1.4188133337950928,
            1.7960581752545568,
            -1.0348388776954243,
            0.6668239016447434,
            2.5964017082002773,
            2.2781390146770293,
            3.922881433126487,
            3.553098748131787,
            3.248461200065974,
            0.30461683603796347,
            3.663872062397887,
            0.3711798830840622,
            -0.06405286023484698,
            -0.7349585441225103,
            -1.875758556870402,
            1.303782215437088,
            1.4219794519973383,
            -1.566853657469838,
            -0.4819114362533965,
            -0.4179536505339916,
            1.328186508391724,
            0.5741947482176766,
            0.8976654413815036,
            -0.09094674191196733,
            -0.8927867079819881,
            3.6989277163074603,
            1.0821159150683994,
            -0.38928878401060824,
            -2.2358172387851605,
            0.30560155232226793,
            7.144073768224882,
            12.562140868894927,
            0.25028130560880724,
            0.9441135819177802,
            0.005547531747332535,
            -3.0679491865945137,
            -0.6740556439463443,
            -1.1028868234543119,
            1.7840810718300981,
            1.4680023372252957,
            -2.7364532614681463,
            0.006866239725378773,
            -1.8411593944623466,
            0.11415185728046351,
            1.6182680772416715,
            -0.22271884587868462,
            1.0258552141858968,
            7.008319995836438,
            -3.3832279833994545,
            -1.2450706432769487,
            0.5394611319529292,
            0.8153542849722981,
            -0.3983791623636964,
            0.15560427961516146,
            -1.1027621091297877,
            -0.5426880190732044,
            -0.4774274928961745,
            -0.9692577223383565,
            0.11678749583443751,
            0.6522753252284721,
            1.3057897655013089,
            2.0757343005462814,
            -2.4706139080019036,
            -0.39642921233330874,
            2.2747963137708456,
            1.085879226242362,
            -0.732757814354835,
            0.4380527413997921,
            1.8093817105454617,
            -1.4173293464630592,
            -1.2491483541877932,
            0.5380972756258408,
            -0.6138753244364596,
            -0.20154941476990662,
            -1.353056833577669,
            -1.2904935620368259,
            1.1615240891852958,
            -1.3477938157284322,
            -1.1349924568744252,
            -1.213931555013346,
            -1.7395986990018653,
            4.7852660542205925,
            -1.5827355092549447,
            2.075859442195826,
            -1.1710430842090958,
            2.359186109274801,
            0.728572047465505,
            0.46019148269058774,
            -0.6488978381643459,
            1.6851490606300275,
            -1.1025164598757209,
            0.009485293145084396,
            3.1497491578286123,
            -3.1664864136175876,
            0.40994109002064283,
            1.5881896245955338,
            0.8483065631171047,
            -0.3216949990899543,
            -2.631766723472214,
            -0.9012711860413003,
            -0.13790492255901096,
            0.005800357745429001,
            -1.3752981229144032,
            1.693519505952671,
            -1.9767468042489387,
            3.720160654442224,
            0.3538488777372821,
            4.269702670088383,
            -0.807865734380415,
            1.392752637627163,
            -0.26840833809690695,
            -0.8068906366493205,
            -1.4409083819854236,
            -0.5424845304563055,
            -2.530807159415582,
            0.7533011314158339,
            0.5914224783068318,
            0.8907991822403036,
            -0.1790558359990478,
            -0.30578937303919035,
            -1.5233860034961464,
            0.5557664887202327,
            -3.0626925870405985,
            -2.540671520337607,
            -0.06850277260593131,
            -3.135950088706773,
            -0.004388986797511206,
            -0.2404864516331899,
            4.394333942693908,
            -2.337158334458692,
            -1.7968209624857185,
            6.503377020608651,
            -1.40097375294365,
            3.4677573783604734,
            0.39585898804151454,
            -0.7418737713042914,
            -0.4643230691855482,
            -1.769691254803072,
            -1.8340046311427012,
            1.2647587688578537,
            1.1024730817031725,
            -0.7604346272921751,
            -0.9091186263520687,
            0.9891604207853376,
            1.1348390297048279,
            0.22673553279491196,
            2.542750759888151,
            1.8049313395212638,
            0.9580682603090996,
            3.4441733573134585,
            -0.5624340150942283,
            -1.315886496824809,
            0.4747538481948376,
            1.4601849887092333,
            -1.3557245619946916,
            0.24354568119548103,
            0.7965515125308297,
            2.1259680042454985,
            -1.8475264447688857,
            1.6299580146954713,
            0.5788301325846643,
            -2.75869973226895,
            -1.187894182767148,
            -0.2505243553112655,
            -2.1224758723991357,
            -1.486714010381813,
            -0.35684672329466277,
            -2.016761089647548,
            -1.1015052508761038,
            -0.12973343111789729,
            6.421169886608873,
            -2.180177373551914,
            0.29233899492110166,
            2.300457270435138,
            0.2011343594129654,
            0.9789963157990146,
            2.1593127242630756,
            -0.9312581749995877,
            0.3201534445382009,
            -2.4433685051267107,
            3.699574203308493,
            0.7861681712752969,
            2.602797029733219,
            0.4293118114043391,
            -1.698977553838204,
            0.10663763480910785,
            -0.6508212257709013,
            -0.3258596453500149,
            -0.21947262886764599,
            -0.9917374104517775,
            -0.29306859391489193,
            -0.3347524796101594,
            -1.2402738149686685,
            0.6821411046245883,
            -1.960446507766207,
            0.36924900181732756,
            -0.17569391631843423,
            -0.49442119062325335,
            0.37700053637611347,
            0.9590122600900077,
            -0.43762316598290824,
            0.8916821038324625,
            2.499901967778027,
            -0.009204582066514698,
            -0.022205192249946437,
            0.7777677776894094,
            2.3140119674567745,
            0.8615607699899311,
            0.11351277942334123,
            2.538995600713894,
            -0.4319223845617645,
            2.548666752187359,
            0.4016780429630261,
            -0.781611021153444,
            -2.0282316569927863,
            2.476833776066942,
            -1.803766113716715,
            -0.45418987224975454,
            -1.193746540690376,
            -1.8304498297106995,
            -2.2331777431707804,
            2.1830779549021364,
            -2.134583339843829,
            0.7301335297677412,
            1.066752884834631,
            -1.0370146428340534,
            -1.5874420077037787,
            1.8020325644530515,
            0.02986501003020028,
            -0.47442206364213113,
            -1.0172307505033007,
            -1.5700116743733057,
            0.7764124994363979,
            -1.664836753413375,
            -2.073908798270102,
            -0.48428396051553957,
            -2.4918528796792105,
            -0.06878661073676468,
            -1.7923416963664633,
            2.1081563937334957,
            0.1164172621337073,
            0.8983881616862761,
            3.422999542204256,
            1.4422864689211439,
            -0.9024618581479789,
            -1.7706682439676216,
            -1.245758017706733,
            1.8977926931992075,
            -0.20618971130285546,
            -0.9725121025614135,
            -2.087215768166021,
            1.2849087344329526,
            -0.6727472975141835,
            -2.361880554619133,
            0.5093856426101584,
            -1.297562775250298,
            -0.2271834954016063,
            4.38527575451945,
            -2.464672104768632,
            0.9973003162389393,
            -0.9770845877863107,
            -4.551659142217287,
            -0.5604610750501747,
            -1.076940538954117,
            -1.5896954369909222,
            1.514570755394583,
            -0.7632289241903469,
            -0.8377175598575815,
            1.5044468375197233,
            7.723057325186103,
            8.287483337103586,
            1.5942810552725128,
            4.113567176009637,
            -1.6642293893018105,
            1.6707216797567475,
            -2.1591489715344414,
            -1.40976152387572,
            0.7894519727776868,
            1.0754137523688874,
            1.0104810609153643,
            4.959860547677402,
            -0.7853450148777342,
            0.6357898420396559,
            1.2847946773779275,
            2.670950442879675,
            0.09676338100346385,
            -0.8707764321753094,
            1.539870352190236,
            0.6003197511223959,
            0.4048615537884796,
            0.8035030144373403,
            -1.4834036616904906,
            1.5172456228249251,
            3.531373815280496,
            2.3653110586443877,
            5.594535868499142,
            2.387517361232176,
            1.091429306815736,
            -1.8198140573044694,
            -1.680097929124508,
            -0.21377464094440696,
            -1.1367397049478225,
            0.18411049914756025,
            2.3137569607520105,
            0.49581366478132616,
            0.22812922777774897,
            -0.7668032380098371,
            1.2601331159210838,
            -1.4503596008501083,
            1.7992493424725995,
            -0.8293390874808673,
            1.6150382046229672,
            1.0833015533657013,
            0.12206103441499286,
            -0.21337209337373106,
            1.2917113284792312,
            -0.1778631902987859,
            -2.1292326072148433,
            -0.6700472198073198
           ]
          }
         ],
         "hovertemplate": "color=1.0<br>%{xaxis.title.text}=%{x}<br>%{yaxis.title.text}=%{y}<extra></extra>",
         "legendgroup": "1.0",
         "marker": {
          "color": "#EF553B",
          "symbol": "circle"
         },
         "name": "1.0",
         "showlegend": true,
         "type": "splom"
        }
       ],
       "layout": {
        "autosize": true,
        "dragmode": "select",
        "legend": {
         "title": {
          "text": "color"
         },
         "tracegroupgap": 0
        },
        "margin": {
         "t": 60
        },
        "template": {
         "data": {
          "bar": [
           {
            "error_x": {
             "color": "#2a3f5f"
            },
            "error_y": {
             "color": "#2a3f5f"
            },
            "marker": {
             "line": {
              "color": "#E5ECF6",
              "width": 0.5
             },
             "pattern": {
              "fillmode": "overlay",
              "size": 10,
              "solidity": 0.2
             }
            },
            "type": "bar"
           }
          ],
          "barpolar": [
           {
            "marker": {
             "line": {
              "color": "#E5ECF6",
              "width": 0.5
             },
             "pattern": {
              "fillmode": "overlay",
              "size": 10,
              "solidity": 0.2
             }
            },
            "type": "barpolar"
           }
          ],
          "carpet": [
           {
            "aaxis": {
             "endlinecolor": "#2a3f5f",
             "gridcolor": "white",
             "linecolor": "white",
             "minorgridcolor": "white",
             "startlinecolor": "#2a3f5f"
            },
            "baxis": {
             "endlinecolor": "#2a3f5f",
             "gridcolor": "white",
             "linecolor": "white",
             "minorgridcolor": "white",
             "startlinecolor": "#2a3f5f"
            },
            "type": "carpet"
           }
          ],
          "choropleth": [
           {
            "colorbar": {
             "outlinewidth": 0,
             "ticks": ""
            },
            "type": "choropleth"
           }
          ],
          "contour": [
           {
            "colorbar": {
             "outlinewidth": 0,
             "ticks": ""
            },
            "colorscale": [
             [
              0,
              "#0d0887"
             ],
             [
              0.1111111111111111,
              "#46039f"
             ],
             [
              0.2222222222222222,
              "#7201a8"
             ],
             [
              0.3333333333333333,
              "#9c179e"
             ],
             [
              0.4444444444444444,
              "#bd3786"
             ],
             [
              0.5555555555555556,
              "#d8576b"
             ],
             [
              0.6666666666666666,
              "#ed7953"
             ],
             [
              0.7777777777777778,
              "#fb9f3a"
             ],
             [
              0.8888888888888888,
              "#fdca26"
             ],
             [
              1,
              "#f0f921"
             ]
            ],
            "type": "contour"
           }
          ],
          "contourcarpet": [
           {
            "colorbar": {
             "outlinewidth": 0,
             "ticks": ""
            },
            "type": "contourcarpet"
           }
          ],
          "heatmap": [
           {
            "colorbar": {
             "outlinewidth": 0,
             "ticks": ""
            },
            "colorscale": [
             [
              0,
              "#0d0887"
             ],
             [
              0.1111111111111111,
              "#46039f"
             ],
             [
              0.2222222222222222,
              "#7201a8"
             ],
             [
              0.3333333333333333,
              "#9c179e"
             ],
             [
              0.4444444444444444,
              "#bd3786"
             ],
             [
              0.5555555555555556,
              "#d8576b"
             ],
             [
              0.6666666666666666,
              "#ed7953"
             ],
             [
              0.7777777777777778,
              "#fb9f3a"
             ],
             [
              0.8888888888888888,
              "#fdca26"
             ],
             [
              1,
              "#f0f921"
             ]
            ],
            "type": "heatmap"
           }
          ],
          "heatmapgl": [
           {
            "colorbar": {
             "outlinewidth": 0,
             "ticks": ""
            },
            "colorscale": [
             [
              0,
              "#0d0887"
             ],
             [
              0.1111111111111111,
              "#46039f"
             ],
             [
              0.2222222222222222,
              "#7201a8"
             ],
             [
              0.3333333333333333,
              "#9c179e"
             ],
             [
              0.4444444444444444,
              "#bd3786"
             ],
             [
              0.5555555555555556,
              "#d8576b"
             ],
             [
              0.6666666666666666,
              "#ed7953"
             ],
             [
              0.7777777777777778,
              "#fb9f3a"
             ],
             [
              0.8888888888888888,
              "#fdca26"
             ],
             [
              1,
              "#f0f921"
             ]
            ],
            "type": "heatmapgl"
           }
          ],
          "histogram": [
           {
            "marker": {
             "pattern": {
              "fillmode": "overlay",
              "size": 10,
              "solidity": 0.2
             }
            },
            "type": "histogram"
           }
          ],
          "histogram2d": [
           {
            "colorbar": {
             "outlinewidth": 0,
             "ticks": ""
            },
            "colorscale": [
             [
              0,
              "#0d0887"
             ],
             [
              0.1111111111111111,
              "#46039f"
             ],
             [
              0.2222222222222222,
              "#7201a8"
             ],
             [
              0.3333333333333333,
              "#9c179e"
             ],
             [
              0.4444444444444444,
              "#bd3786"
             ],
             [
              0.5555555555555556,
              "#d8576b"
             ],
             [
              0.6666666666666666,
              "#ed7953"
             ],
             [
              0.7777777777777778,
              "#fb9f3a"
             ],
             [
              0.8888888888888888,
              "#fdca26"
             ],
             [
              1,
              "#f0f921"
             ]
            ],
            "type": "histogram2d"
           }
          ],
          "histogram2dcontour": [
           {
            "colorbar": {
             "outlinewidth": 0,
             "ticks": ""
            },
            "colorscale": [
             [
              0,
              "#0d0887"
             ],
             [
              0.1111111111111111,
              "#46039f"
             ],
             [
              0.2222222222222222,
              "#7201a8"
             ],
             [
              0.3333333333333333,
              "#9c179e"
             ],
             [
              0.4444444444444444,
              "#bd3786"
             ],
             [
              0.5555555555555556,
              "#d8576b"
             ],
             [
              0.6666666666666666,
              "#ed7953"
             ],
             [
              0.7777777777777778,
              "#fb9f3a"
             ],
             [
              0.8888888888888888,
              "#fdca26"
             ],
             [
              1,
              "#f0f921"
             ]
            ],
            "type": "histogram2dcontour"
           }
          ],
          "mesh3d": [
           {
            "colorbar": {
             "outlinewidth": 0,
             "ticks": ""
            },
            "type": "mesh3d"
           }
          ],
          "parcoords": [
           {
            "line": {
             "colorbar": {
              "outlinewidth": 0,
              "ticks": ""
             }
            },
            "type": "parcoords"
           }
          ],
          "pie": [
           {
            "automargin": true,
            "type": "pie"
           }
          ],
          "scatter": [
           {
            "fillpattern": {
             "fillmode": "overlay",
             "size": 10,
             "solidity": 0.2
            },
            "type": "scatter"
           }
          ],
          "scatter3d": [
           {
            "line": {
             "colorbar": {
              "outlinewidth": 0,
              "ticks": ""
             }
            },
            "marker": {
             "colorbar": {
              "outlinewidth": 0,
              "ticks": ""
             }
            },
            "type": "scatter3d"
           }
          ],
          "scattercarpet": [
           {
            "marker": {
             "colorbar": {
              "outlinewidth": 0,
              "ticks": ""
             }
            },
            "type": "scattercarpet"
           }
          ],
          "scattergeo": [
           {
            "marker": {
             "colorbar": {
              "outlinewidth": 0,
              "ticks": ""
             }
            },
            "type": "scattergeo"
           }
          ],
          "scattergl": [
           {
            "marker": {
             "colorbar": {
              "outlinewidth": 0,
              "ticks": ""
             }
            },
            "type": "scattergl"
           }
          ],
          "scattermapbox": [
           {
            "marker": {
             "colorbar": {
              "outlinewidth": 0,
              "ticks": ""
             }
            },
            "type": "scattermapbox"
           }
          ],
          "scatterpolar": [
           {
            "marker": {
             "colorbar": {
              "outlinewidth": 0,
              "ticks": ""
             }
            },
            "type": "scatterpolar"
           }
          ],
          "scatterpolargl": [
           {
            "marker": {
             "colorbar": {
              "outlinewidth": 0,
              "ticks": ""
             }
            },
            "type": "scatterpolargl"
           }
          ],
          "scatterternary": [
           {
            "marker": {
             "colorbar": {
              "outlinewidth": 0,
              "ticks": ""
             }
            },
            "type": "scatterternary"
           }
          ],
          "surface": [
           {
            "colorbar": {
             "outlinewidth": 0,
             "ticks": ""
            },
            "colorscale": [
             [
              0,
              "#0d0887"
             ],
             [
              0.1111111111111111,
              "#46039f"
             ],
             [
              0.2222222222222222,
              "#7201a8"
             ],
             [
              0.3333333333333333,
              "#9c179e"
             ],
             [
              0.4444444444444444,
              "#bd3786"
             ],
             [
              0.5555555555555556,
              "#d8576b"
             ],
             [
              0.6666666666666666,
              "#ed7953"
             ],
             [
              0.7777777777777778,
              "#fb9f3a"
             ],
             [
              0.8888888888888888,
              "#fdca26"
             ],
             [
              1,
              "#f0f921"
             ]
            ],
            "type": "surface"
           }
          ],
          "table": [
           {
            "cells": {
             "fill": {
              "color": "#EBF0F8"
             },
             "line": {
              "color": "white"
             }
            },
            "header": {
             "fill": {
              "color": "#C8D4E3"
             },
             "line": {
              "color": "white"
             }
            },
            "type": "table"
           }
          ]
         },
         "layout": {
          "annotationdefaults": {
           "arrowcolor": "#2a3f5f",
           "arrowhead": 0,
           "arrowwidth": 1
          },
          "autotypenumbers": "strict",
          "coloraxis": {
           "colorbar": {
            "outlinewidth": 0,
            "ticks": ""
           }
          },
          "colorscale": {
           "diverging": [
            [
             0,
             "#8e0152"
            ],
            [
             0.1,
             "#c51b7d"
            ],
            [
             0.2,
             "#de77ae"
            ],
            [
             0.3,
             "#f1b6da"
            ],
            [
             0.4,
             "#fde0ef"
            ],
            [
             0.5,
             "#f7f7f7"
            ],
            [
             0.6,
             "#e6f5d0"
            ],
            [
             0.7,
             "#b8e186"
            ],
            [
             0.8,
             "#7fbc41"
            ],
            [
             0.9,
             "#4d9221"
            ],
            [
             1,
             "#276419"
            ]
           ],
           "sequential": [
            [
             0,
             "#0d0887"
            ],
            [
             0.1111111111111111,
             "#46039f"
            ],
            [
             0.2222222222222222,
             "#7201a8"
            ],
            [
             0.3333333333333333,
             "#9c179e"
            ],
            [
             0.4444444444444444,
             "#bd3786"
            ],
            [
             0.5555555555555556,
             "#d8576b"
            ],
            [
             0.6666666666666666,
             "#ed7953"
            ],
            [
             0.7777777777777778,
             "#fb9f3a"
            ],
            [
             0.8888888888888888,
             "#fdca26"
            ],
            [
             1,
             "#f0f921"
            ]
           ],
           "sequentialminus": [
            [
             0,
             "#0d0887"
            ],
            [
             0.1111111111111111,
             "#46039f"
            ],
            [
             0.2222222222222222,
             "#7201a8"
            ],
            [
             0.3333333333333333,
             "#9c179e"
            ],
            [
             0.4444444444444444,
             "#bd3786"
            ],
            [
             0.5555555555555556,
             "#d8576b"
            ],
            [
             0.6666666666666666,
             "#ed7953"
            ],
            [
             0.7777777777777778,
             "#fb9f3a"
            ],
            [
             0.8888888888888888,
             "#fdca26"
            ],
            [
             1,
             "#f0f921"
            ]
           ]
          },
          "colorway": [
           "#636efa",
           "#EF553B",
           "#00cc96",
           "#ab63fa",
           "#FFA15A",
           "#19d3f3",
           "#FF6692",
           "#B6E880",
           "#FF97FF",
           "#FECB52"
          ],
          "font": {
           "color": "#2a3f5f"
          },
          "geo": {
           "bgcolor": "white",
           "lakecolor": "white",
           "landcolor": "#E5ECF6",
           "showlakes": true,
           "showland": true,
           "subunitcolor": "white"
          },
          "hoverlabel": {
           "align": "left"
          },
          "hovermode": "closest",
          "mapbox": {
           "style": "light"
          },
          "paper_bgcolor": "white",
          "plot_bgcolor": "#E5ECF6",
          "polar": {
           "angularaxis": {
            "gridcolor": "white",
            "linecolor": "white",
            "ticks": ""
           },
           "bgcolor": "#E5ECF6",
           "radialaxis": {
            "gridcolor": "white",
            "linecolor": "white",
            "ticks": ""
           }
          },
          "scene": {
           "xaxis": {
            "backgroundcolor": "#E5ECF6",
            "gridcolor": "white",
            "gridwidth": 2,
            "linecolor": "white",
            "showbackground": true,
            "ticks": "",
            "zerolinecolor": "white"
           },
           "yaxis": {
            "backgroundcolor": "#E5ECF6",
            "gridcolor": "white",
            "gridwidth": 2,
            "linecolor": "white",
            "showbackground": true,
            "ticks": "",
            "zerolinecolor": "white"
           },
           "zaxis": {
            "backgroundcolor": "#E5ECF6",
            "gridcolor": "white",
            "gridwidth": 2,
            "linecolor": "white",
            "showbackground": true,
            "ticks": "",
            "zerolinecolor": "white"
           }
          },
          "shapedefaults": {
           "line": {
            "color": "#2a3f5f"
           }
          },
          "ternary": {
           "aaxis": {
            "gridcolor": "white",
            "linecolor": "white",
            "ticks": ""
           },
           "baxis": {
            "gridcolor": "white",
            "linecolor": "white",
            "ticks": ""
           },
           "bgcolor": "#E5ECF6",
           "caxis": {
            "gridcolor": "white",
            "linecolor": "white",
            "ticks": ""
           }
          },
          "title": {
           "x": 0.05
          },
          "xaxis": {
           "automargin": true,
           "gridcolor": "white",
           "linecolor": "white",
           "ticks": "",
           "title": {
            "standoff": 15
           },
           "zerolinecolor": "white",
           "zerolinewidth": 2
          },
          "yaxis": {
           "automargin": true,
           "gridcolor": "white",
           "linecolor": "white",
           "ticks": "",
           "title": {
            "standoff": 15
           },
           "zerolinecolor": "white",
           "zerolinewidth": 2
          }
         }
        },
        "xaxis": {
         "autorange": true,
         "range": [
          -7.831437919432306,
          18.575481625627823
         ],
         "type": "linear"
        },
        "xaxis2": {
         "autorange": true,
         "range": [
          -9.880257881438927,
          14.673381861984767
         ],
         "type": "linear"
        },
        "yaxis": {
         "autorange": true,
         "range": [
          -7.831437919432306,
          18.575481625627823
         ],
         "type": "linear"
        },
        "yaxis2": {
         "autorange": true,
         "range": [
          -9.880257881438927,
          14.673381861984767
         ],
         "type": "linear"
        }
       }
      },
      "image/png": "[encoded data removed]",
      "text/html": [
       "<div>                            <div id=\"a202e9a5-6952-4bb4-9ea5-1632d079c71e\" class=\"plotly-graph-div\" style=\"height:525px; width:100%;\"></div>            <script type=\"text/javascript\">                require([\"plotly\"], function(Plotly) {                    window.PLOTLYENV=window.PLOTLYENV || {};                                    if (document.getElementById(\"a202e9a5-6952-4bb4-9ea5-1632d079c71e\")) {                    Plotly.newPlot(                        \"a202e9a5-6952-4bb4-9ea5-1632d079c71e\",                        [{\"dimensions\":[{\"axis\":{\"matches\":true},\"label\":\"PC 1 (44.3%)\",\"values\":[9.184755209858876,2.385702628982489,5.728855490819061,7.116691259621247,3.931842466790788,2.3781546249741177,2.2369150586098923,2.141414281551426,3.1721331503085586,6.346162835225199,-0.8097013190409753,2.648769839009661,8.177838822068408,0.34182514389773727,4.338561717694899,4.072073180213604,0.22985276950318442,4.414126949591795,4.944353041108237,4.729049722976268,4.204824406832212,4.945280748242376,7.092322358888264,3.5071766582289703,3.0613602117964476,4.003741273398042,1.7138017616568726,6.054118527408613,2.8996846881505367,4.550778483480254,4.986215378575254,2.982716313044668,2.763937184421653,1.2950592494027402,-0.9971914775009347,0.7645913556043108,-2.149062522258769,-0.09324933698075243,9.080010225451204,0.9895830367496629,-0.2932884879763186,5.376209908961658,1.6985123749993787,3.2996476093220815,-0.6740262135578274,4.644652068242306,2.174949156248373,4.754928318196902,1.690120795036949,1.8107121691780488,2.7022185052057623,5.498866892103175,-0.36139120652866175,1.4269120607028483,6.225418799624529,11.658456435666976,10.759775351229631,5.030384877079445,3.2853446277776075,0.6070737842436211,3.5804132398493347,0.25227559160038465,2.7734252471515553,4.392363138171204,0.6157390843403029,-0.432479684285134,3.2110913432991843,13.044643947118608,3.1077931629832896,4.952368008219367,0.8502661181132362,3.331202091345591,12.883276209022872,-0.6383188466749993,1.9174462720607188,4.639608949805764,1.4308104644206607,1.351437902504764,2.1695070807760213,-1.9751024733516924,3.7787015965150004,1.3438380019594074,2.3978879545325227,4.097182637787087,3.3843528908657228,6.14447969556725,5.489322772303504,1.21256768041447,5.06520423570707,-0.9466549351986322,2.816889777410306,2.9537029199454996,9.504307055873692,8.999247137485847,0.7582113387113766,-0.3896761071631482,0.36455538153537065,6.517382011166498,1.7780969513569596,2.6091890818216807,2.4962424475167615,1.2759045138293506,3.4701439819584574,1.2555703424425253,1.6480106203166505,9.028645224281531,4.550586028792218,-0.2228964813775279,0.44615182983916035,4.804741578644494,12.274219740082938,3.369232021639297,2.50656080235079,1.3169097348008065,4.939235008379045,4.294298799576701,1.8016617480543058,2.753145523321846,3.2543911523332625,3.313408663113152,8.396459114567016,2.645241099769435,3.347350475085278,3.792228880176232,7.13756173714533,7.078782066793529,1.3129437515041291,3.7083865255645256,0.46007427398634093,6.387030007430588,5.2509246895886434,8.726183381467346,3.68807276498126,3.375280981244704,-0.8394710078446498,3.2814852588699543,-1.907090889193871,1.6133623365756724,6.613906806066323,7.6694012070934665,0.33704892512039764,0.01741546771166466,4.955907441716643,3.7817325769149814,2.6349373102067597,-2.383785278667137,6.58444232820839,7.176618434402307,1.8936500638857112,1.833227420271375,7.230123567830932,2.2485319030586255,2.10594821545167,1.784379914098976,3.316755576255545,4.6760518297257585,7.3467542058003055,4.970788588463166,6.176848765923808,10.924685586759223,2.1166345166822804,2.732607365257556,6.221551679069606,5.302474403497527,7.241629190977252,4.203521962751302,3.631819328529865,3.5161544297781053,3.7626214438790315,-0.5424240881520017,4.6993657852013015,4.1454497836405215,7.665396811496003,6.284144085196446,2.760941448865484,-0.9332696314803431,5.998338685657199,4.9455069367868445,4.5451119272644505,4.438437461052477,0.6638567906972639,2.470183415767339,0.9808644845489033,3.24256053745164,4.327845296903513,2.509544967238594,3.472438368420945,16.304886649594245,5.925750823534576,3.8210709033524783,4.750434988655838,-0.7411296510979622,3.1007913344299487,3.7124385488948692,5.090362861090221,2.78794673020841,7.252797143875166,4.090543310340469,2.2250366914743656,-0.7331273774331057,2.6948525682230855,3.376044104802947,8.623168379951073,4.024893778841477,5.160869926813582,0.5354608003699242,5.912410291355508,8.733653382967207,6.4336545461706045,3.790047527744111,1.2550749425071965,10.365673359932426]},{\"axis\":{\"matches\":true},\"label\":\"PC 2 (19.0%)\",\"values\":[1.9468700304117517,-3.7648590630075245,-1.074228588727802,10.266555635071557,-1.9463589770593346,3.9464564299162697,-2.6876664141947613,2.3381866491660697,3.3888311376990865,7.720380945507321,-2.6569376726575205,0.06650940527999644,2.698602007243957,-0.9674280261788807,4.856809831843984,2.974443983228813,-1.563382113854474,1.4174231504636672,-4.110716527784619,3.3020582651264707,-5.123858059017247,-1.5423951430302976,2.01683573426334,2.169715994291878,-1.874902631019256,0.5367698596441152,-1.5223655018199018,-0.7565118002074435,4.0017743727739505,0.33723941880609365,-1.1315932229319516,0.7577564966672896,-0.3540444207277226,0.9123934661742971,-3.348346731030744,0.8854648371576582,-1.9223001943094669,2.2587645315138283,2.016898441298437,0.9840641476600525,-0.13697856413303844,-0.13475840449510665,2.3502038619957415,-1.1299435737047303,-2.1145491365539444,-2.308301508293563,0.9712614383018475,3.009032874688699,1.5393221158918395,0.722104815053899,-4.433240984911182,0.9375005134821793,0.11963382119500118,-1.9653720916471722,0.9192606901534728,4.744442593099886,-2.2559978577743984,0.7737283569362395,-1.6667704797583378,0.16207191876411736,-2.204721916296623,-0.530884424905669,0.557509976777012,-2.1216408918281426,0.6383499883089431,-1.390820523330115,4.0431986340641,0.9806503575142124,1.5680098728021012,2.3827496502258234,-2.304707467953076,-1.3243920287684978,2.3145858729463127,-0.9105648277503414,-3.5349719657005725,-1.4807142968445155,-1.0486812201516216,-1.1531268416584857,-2.823776100833049,-0.4190187545998755,0.8596252179030975,-1.2736502780619203,4.8337356419203745,-0.37847080573759345,-2.908477953212628,-2.0158789937600856,-4.162167037290407,-2.0372463953296247,-1.7835829692602267,-1.6832724441377531,1.2639909533876275,0.7058008217887114,-5.598558051807337,0.5805202806512357,-1.6071184808318135,-0.988372689156326,-3.5713188418284627,8.004126823773433,2.7741462134384482,1.5600490304759647,2.276479789841523,-2.4411110438736197,-2.275846405120362,0.38205709439252417,-2.1004429023231443,-0.6545968488297598,3.0839256264022956,-0.701204504200428,-2.785257008225064,-3.0264400192345953,-7.536778598577108,2.585550416167843,2.61234988499783,2.1525854528361075,-2.8458204357640766,-4.662172958422218,0.16631461788936067,3.4627267693225,-0.12509042563115177,-3.935689267588446,-4.150252991499116,-3.9476993921984693,-2.1526758988203896,-1.0253304591933325,-2.0730181951071196,0.5277587995770016,-1.7738650170556962,-2.8050089984138356,0.3938197686376851,-1.821491442858972,3.891107225654948,3.2769939657680576,1.0647092355423284,-3.36826417464544,-3.4970080337697547,-0.9898022793071971,-3.119201237199818,-2.4723978983738406,-5.9979988109261395,-3.0726027374712763,-3.141609172777042,-3.4563021097156543,-1.3399440378888499,-1.9002354094384373,0.5766476067700663,-0.8233910735784966,-1.4835570760876788,0.055097580138189786,-2.390134936271964,-4.317723822661216,-0.03567041093190182,-0.34822953511934296,1.1209875925445605,-0.268984957259188,-1.5756664220548715,-0.9677414435217176,-5.238014242213246,-1.3314006873832023,5.103514894374824,-3.699998471841284,0.29636829671913684,-3.9416999500838092,-1.3888876164004071,-6.717504287928117,-3.6522555296954793,1.1752088219457562,-1.9547209619771515,-3.855214937416292,5.9800335493300345,-1.3159100480537258,-0.19578348604755957,0.7668141287438219,-0.8597276808959731,2.0347570255260736,-1.0776852596153443,-2.104094210079025,-0.09094919648315507,3.0034214350112376,-0.8152831423353746,-0.9915664239786327,0.43647680206604733,-1.4985062241692688,-2.2084867116028173,-1.7767952397587985,-4.045772564972587,-2.52658445539259,-1.6714137233901574,-7.769016888349087,1.2272168607727865,2.3032097346364258,-1.4881141767598962,-2.449879330571859,-1.235066483043068,-1.0577555061784711,-2.017432705920664,3.3825844540617287,-5.490904302384872,2.80046313725841,1.9399278270249372,-1.941988438305373,-1.9420011894326972,-2.3313775784546604,-3.4564106380822732,-2.9388442248905733,-2.3801089864880165,0.3803804509597852,3.479574999910503,-0.5733501846756955,-3.5736729885153897,-3.5808970520333134,-1.900624363997524,1.6705402061155423]}],\"hovertemplate\":\"color=0.0<br>%{xaxis.title.text}=%{x}<br>%{yaxis.title.text}=%{y}<extra></extra>\",\"legendgroup\":\"0.0\",\"marker\":{\"color\":\"#636efa\",\"symbol\":\"circle\"},\"name\":\"0.0\",\"showlegend\":true,\"type\":\"splom\",\"diagonal\":{\"visible\":false}},{\"dimensions\":[{\"axis\":{\"matches\":true},\"label\":\"PC 1 (44.3%)\",\"values\":[-1.2359758285191225,-1.5767738400518272,-3.5542090442654692,-3.746017295612643,-4.577908595212478,-2.13456708327066,-1.566100993427785,-3.5397909146133864,-3.155037949380894,-3.4474551464077843,-2.8556457728003823,-3.71818737989838,-4.132326931707896,-2.3837382247834333,-2.576616101418654,-2.312097847000757,-2.783475591571819,-3.5155550218280336,4.32619605261331,-3.2584124133410404,-0.3075851279890907,-2.6276645707416892,-0.8337842392555428,-2.0198004469637256,-1.6369445986800806,1.1664352709963703,-2.1725526922012546,-0.9333368663417133,1.2584973023904393,-1.586867695889226,-2.8449283496524735,-1.9632226839333176,-2.5898040732305474,-3.9009057643024745,-2.81575364676177,-4.551024418715445,-3.4451521704854233,-2.114100078823379,-2.6889861805882926,-0.7486126561287807,-3.1562288887131005,-2.226720534106619,-2.4906395353764634,-0.10325956887870386,3.5881369364375884,-1.3477627936910317,-2.5079109782744595,-2.0442308647877327,-2.0952255918004727,-2.9633917342885563,-0.7700661005416841,-2.2005792460245206,-3.1406488057317343,1.407629797559195,-1.8758168425358381,-0.7084914339488801,-2.598503095223776,-3.255143176621198,-1.9902834824907387,-5.010599890275246,-2.4538097168107975,-1.8356664765287212,-4.342668621633069,-0.7321686848842189,0.39275308262178676,-0.4119653267362936,-3.047243687238263,-1.4412955434660328,0.08311297195903346,7.0870708389493124,-3.740113637267296,-0.9683207941410874,-2.416593560539951,-0.7509422555126954,-3.6514336515637225,-4.6760971035023555,-0.5972562440800094,-1.3238664840948293,-2.994768126879621,-4.382876252034884,-1.9759628006689065,-2.5126655380943803,-3.4809234523308064,-4.654633990732199,-5.346913394805241,1.169868418021593,-4.971327817743066,-4.060452888239642,-2.657021716338465,-3.8856465678206464,-2.83339782675759,-3.3073734807303152,-3.3543529255867552,-1.7162250789579265,-5.560842943398727,-2.816560233520026,-1.4721360446853171,-0.7805032063552324,-3.4518581148396352,0.314161796698376,-2.0573816635646405,-2.9960742986927937,-0.38841453491045513,-2.7545093134335614,-2.3714152065809495,-0.9663400342412422,-2.973182700588703,-2.476180734357798,-0.8253131039081694,-3.8912734179385153,-0.389235603918024,-1.4560401949184856,-4.015606929779546,-3.673181280856329,-4.033058695259517,-2.332181276558681,-0.6811695085597317,-2.2257620828201943,-4.473648316810706,1.321458674509768,-1.8484634072018267,-2.2793125444788758,-3.2259316385038095,1.0249988966721515,-2.580285458084804,-2.483697833237316,-3.029815222770886,-1.4633883060156243,-2.0103835029649386,-2.2823320404718337,-0.7390927619275083,-4.5026006967194965,-3.1559773740122696,-3.635936726130319,-1.2754611078320466,-4.3421933817958855,-3.4893557720452106,-1.8649079312978376,-2.4685506209044545,-1.3714782673685464,-4.135243994469327,-0.6863363877212377,-4.308338698860447,0.40295486357489196,-3.0009652622437244,3.1312530328585284,-0.41746953769712897,-1.4189745870297685,-2.868064753146442,-3.362886718265051,-3.312085868422375,-4.765517007100833,-2.7846458146634685,-3.3908581737797956,-1.45405110620502,-3.5756891739127985,-3.054345140130371,-3.0717330303073522,-3.8501520053628573,-5.385517705918503,-4.653587667914714,-4.024001690818735,-3.3448788008728734,-3.2969410508974466,-2.1345259845003213,-4.034467235871244,-3.7621042980663795,-4.866956974403863,-4.743075110258735,1.5715483437346127,-4.0230803660386805,-1.2937278259891947,-1.8087890152352526,-3.1428847812274077,-2.884729800115247,-3.1468850567065347,-4.624310577223514,-0.5272327081977655,-3.2106759241477394,-4.382566769758065,-3.8066684029240347,-2.3911719850536772,-3.0649982652345766,0.29505356721234083,-1.9372649080483912,-2.075352829718516,-2.1750031061333437,-2.4294138269430374,-3.3650049292694506,-1.2055370449973914,-3.3231552224306378,-1.9270997575978208,-4.03828182765014,-3.009546886156347,-0.9817847142178995,0.35757923049029827,-3.191110025081218,-2.9906018868445865,-3.1911063133100943,-4.587924963183547,-2.4837307331946725,-2.3965566290158833,-0.7789298236156555,-3.137227995833938,-2.2218207775129812,-2.4974388911606638,-2.6126494511410954,-0.09602362590837801,2.0430592577934963,-3.064053483495565,-1.6021766967898559,-0.924752918124669,-3.2854587367561527,-1.5534852463994338,-0.39842934176185213,-2.2985453437370897,-2.0570095043099483,-3.4215074893256485,-0.4719912493097215,-3.6401772663566874,-3.591529176522861,-2.0086120468983233,-2.918265728630794,-0.5002975911258621,-1.909818136290506,-3.7817716673916655,-2.7060129620668762,-3.427754628509675,-1.999629003661087,-2.4711187702675104,-3.644051365338025,-2.3441242686967483,-1.1419920938905737,-1.3496697362423837,-1.9675923312030954,-2.9286101872008703,-2.9238017488302415,-3.9926751441797057,0.15500167433489367,-1.9279253591753895,-2.6200332486414197,-2.9193091202940344,-3.339006829927372,-2.0131436791939166,1.9867140066591673,-1.6681361466415825,-0.37085180302598225,-1.8473344702439758,-4.698907658716757,-1.2820590739520819,-2.3122123162134574,-4.654989276563035,-3.9400065912785274,-0.9149984171806591,-2.1930546441192287,-2.2389060523360764,-2.1233121460649937,-2.613018230636086,-3.2081451461269204,-0.3064807279755404,-3.451681256473374,-3.897097812803917,-1.2561462947029913,-1.5558504281734717,-1.2481598476097315,-1.0765041197499101,-2.2151432129344393,-1.1727987075491924,-2.833807992032277,-1.8554532955712513,-1.3274463600966913,-2.8003073814807524,-3.1717779665128223,-4.083484325194246,-2.5578643670165273,-2.9662787832843134,-2.755006335869304,1.3691351808117926,-0.41729731490598515,-3.8350242059570885,0.6449111936209432,-2.681486975115724,-2.039869182262217,-1.398066199236735,-3.533306358293324,-1.9887795302555606,-1.9964287203130044,-0.5202003908111913,-3.1695815905765867,-2.200773740164567,-2.982860087893462,-2.4788739595090314,-1.2709931213159316,-2.2331919146098365,-0.05613371256207939,2.315353339419751,-2.2823230571574413,-1.7247932814230813,-2.8917662115874023,-1.6530673209399147,-4.060697611933889,-2.7908749816849934,-1.4736233044459575,-0.2291929713893435,-2.5510137844037097,-0.6000880992881286,-1.407532733971181,1.2977246878630115,1.0757467319115326,-1.2486618339883935,-1.255823413400556,-1.1655096888161445,-1.885979777969439,-2.7650027918677664,-1.1305820976817056,-2.331619157745089,-0.19969486970748793,-1.1749920441007755,-1.2915001552911616,-4.42556234273412,-0.6192938271624334,-3.2494565893616945,-3.3499794247879198,-0.8590471150996153,-3.153846915866272,0.34622347304993795,-2.459242776527404,-1.5287555778359596,-1.7720258700967038,-2.6780851913134964,-2.134473117265623,0.34282173595447785,-4.19339024498534,-1.1418271770488242,-1.6640109989531682,1.0108230779795089,-1.2997860372752719,-2.3713421938590407,-1.664406509523943,-1.925983529896294,-4.233491591622615,-2.6755165483249685,-3.833125105779701,-2.549197271080591,-4.690796039132288,-2.023256911331005,-2.893402316494342,-3.4991221818910305,-2.152010125344273,-2.0532774003295193,-3.873880972515203,-4.060289488002488,-0.09858059215939066,-1.0884184965310701,-0.48134742985151585,-4.8660279264742,-5.470429900908333]},{\"axis\":{\"matches\":true},\"label\":\"PC 2 (19.0%)\",\"values\":[-0.18804949003111904,0.5723046247817384,1.6614879693583648,-1.4122305036828176,1.4829155084645693,0.09574536367636131,-1.2073708547283506,-1.2813681096190495,-1.6874737964988704,-0.4977807195873526,0.15258887410400993,-1.7860700970438164,2.4016792608826023,2.7552338144097166,3.135912650187637,3.265116720737291,2.3086173723696595,-0.6577307355414069,9.194435551727752,-0.9370136471236091,7.381317395894935,-0.6966963492642273,1.963876859759211,-0.2546757461648132,1.7144405868960413,2.512305286196477,0.4964411689318455,0.926885919021971,1.0146842550604347,-1.6182329540197589,-2.891103731922348,-0.9643084982633481,0.21344611980675504,1.1890204211593929,0.3675605667285116,3.525683787825931,-1.4233700401200406,1.8477477817714378,1.4188133337950928,1.7960581752545568,-1.0348388776954243,0.6668239016447434,2.5964017082002773,2.2781390146770293,3.922881433126487,3.553098748131787,3.248461200065974,0.30461683603796347,3.663872062397887,0.3711798830840622,-0.06405286023484698,-0.7349585441225103,-1.875758556870402,1.303782215437088,1.4219794519973383,-1.566853657469838,-0.4819114362533965,-0.4179536505339916,1.328186508391724,0.5741947482176766,0.8976654413815036,-0.09094674191196733,-0.8927867079819881,3.6989277163074603,1.0821159150683994,-0.38928878401060824,-2.2358172387851605,0.30560155232226793,7.144073768224882,12.562140868894927,0.25028130560880724,0.9441135819177802,0.005547531747332535,-3.0679491865945137,-0.6740556439463443,-1.1028868234543119,1.7840810718300981,1.4680023372252957,-2.7364532614681463,0.006866239725378773,-1.8411593944623466,0.11415185728046351,1.6182680772416715,-0.22271884587868462,1.0258552141858968,7.008319995836438,-3.3832279833994545,-1.2450706432769487,0.5394611319529292,0.8153542849722981,-0.3983791623636964,0.15560427961516146,-1.1027621091297877,-0.5426880190732044,-0.4774274928961745,-0.9692577223383565,0.11678749583443751,0.6522753252284721,1.3057897655013089,2.0757343005462814,-2.4706139080019036,-0.39642921233330874,2.2747963137708456,1.085879226242362,-0.732757814354835,0.4380527413997921,1.8093817105454617,-1.4173293464630592,-1.2491483541877932,0.5380972756258408,-0.6138753244364596,-0.20154941476990662,-1.353056833577669,-1.2904935620368259,1.1615240891852958,-1.3477938157284322,-1.1349924568744252,-1.213931555013346,-1.7395986990018653,4.7852660542205925,-1.5827355092549447,2.075859442195826,-1.1710430842090958,2.359186109274801,0.728572047465505,0.46019148269058774,-0.6488978381643459,1.6851490606300275,-1.1025164598757209,0.009485293145084396,3.1497491578286123,-3.1664864136175876,0.40994109002064283,1.5881896245955338,0.8483065631171047,-0.3216949990899543,-2.631766723472214,-0.9012711860413003,-0.13790492255901096,0.005800357745429001,-1.3752981229144032,1.693519505952671,-1.9767468042489387,3.720160654442224,0.3538488777372821,4.269702670088383,-0.807865734380415,1.392752637627163,-0.26840833809690695,-0.8068906366493205,-1.4409083819854236,-0.5424845304563055,-2.530807159415582,0.7533011314158339,0.5914224783068318,0.8907991822403036,-0.1790558359990478,-0.30578937303919035,-1.5233860034961464,0.5557664887202327,-3.0626925870405985,-2.540671520337607,-0.06850277260593131,-3.135950088706773,-0.004388986797511206,-0.2404864516331899,4.394333942693908,-2.337158334458692,-1.7968209624857185,6.503377020608651,-1.40097375294365,3.4677573783604734,0.39585898804151454,-0.7418737713042914,-0.4643230691855482,-1.769691254803072,-1.8340046311427012,1.2647587688578537,1.1024730817031725,-0.7604346272921751,-0.9091186263520687,0.9891604207853376,1.1348390297048279,0.22673553279491196,2.542750759888151,1.8049313395212638,0.9580682603090996,3.4441733573134585,-0.5624340150942283,-1.315886496824809,0.4747538481948376,1.4601849887092333,-1.3557245619946916,0.24354568119548103,0.7965515125308297,2.1259680042454985,-1.8475264447688857,1.6299580146954713,0.5788301325846643,-2.75869973226895,-1.187894182767148,-0.2505243553112655,-2.1224758723991357,-1.486714010381813,-0.35684672329466277,-2.016761089647548,-1.1015052508761038,-0.12973343111789729,6.421169886608873,-2.180177373551914,0.29233899492110166,2.300457270435138,0.2011343594129654,0.9789963157990146,2.1593127242630756,-0.9312581749995877,0.3201534445382009,-2.4433685051267107,3.699574203308493,0.7861681712752969,2.602797029733219,0.4293118114043391,-1.698977553838204,0.10663763480910785,-0.6508212257709013,-0.3258596453500149,-0.21947262886764599,-0.9917374104517775,-0.29306859391489193,-0.3347524796101594,-1.2402738149686685,0.6821411046245883,-1.960446507766207,0.36924900181732756,-0.17569391631843423,-0.49442119062325335,0.37700053637611347,0.9590122600900077,-0.43762316598290824,0.8916821038324625,2.499901967778027,-0.009204582066514698,-0.022205192249946437,0.7777677776894094,2.3140119674567745,0.8615607699899311,0.11351277942334123,2.538995600713894,-0.4319223845617645,2.548666752187359,0.4016780429630261,-0.781611021153444,-2.0282316569927863,2.476833776066942,-1.803766113716715,-0.45418987224975454,-1.193746540690376,-1.8304498297106995,-2.2331777431707804,2.1830779549021364,-2.134583339843829,0.7301335297677412,1.066752884834631,-1.0370146428340534,-1.5874420077037787,1.8020325644530515,0.02986501003020028,-0.47442206364213113,-1.0172307505033007,-1.5700116743733057,0.7764124994363979,-1.664836753413375,-2.073908798270102,-0.48428396051553957,-2.4918528796792105,-0.06878661073676468,-1.7923416963664633,2.1081563937334957,0.1164172621337073,0.8983881616862761,3.422999542204256,1.4422864689211439,-0.9024618581479789,-1.7706682439676216,-1.245758017706733,1.8977926931992075,-0.20618971130285546,-0.9725121025614135,-2.087215768166021,1.2849087344329526,-0.6727472975141835,-2.361880554619133,0.5093856426101584,-1.297562775250298,-0.2271834954016063,4.38527575451945,-2.464672104768632,0.9973003162389393,-0.9770845877863107,-4.551659142217287,-0.5604610750501747,-1.076940538954117,-1.5896954369909222,1.514570755394583,-0.7632289241903469,-0.8377175598575815,1.5044468375197233,7.723057325186103,8.287483337103586,1.5942810552725128,4.113567176009637,-1.6642293893018105,1.6707216797567475,-2.1591489715344414,-1.40976152387572,0.7894519727776868,1.0754137523688874,1.0104810609153643,4.959860547677402,-0.7853450148777342,0.6357898420396559,1.2847946773779275,2.670950442879675,0.09676338100346385,-0.8707764321753094,1.539870352190236,0.6003197511223959,0.4048615537884796,0.8035030144373403,-1.4834036616904906,1.5172456228249251,3.531373815280496,2.3653110586443877,5.594535868499142,2.387517361232176,1.091429306815736,-1.8198140573044694,-1.680097929124508,-0.21377464094440696,-1.1367397049478225,0.18411049914756025,2.3137569607520105,0.49581366478132616,0.22812922777774897,-0.7668032380098371,1.2601331159210838,-1.4503596008501083,1.7992493424725995,-0.8293390874808673,1.6150382046229672,1.0833015533657013,0.12206103441499286,-0.21337209337373106,1.2917113284792312,-0.1778631902987859,-2.1292326072148433,-0.6700472198073198]}],\"hovertemplate\":\"color=1.0<br>%{xaxis.title.text}=%{x}<br>%{yaxis.title.text}=%{y}<extra></extra>\",\"legendgroup\":\"1.0\",\"marker\":{\"color\":\"#EF553B\",\"symbol\":\"circle\"},\"name\":\"1.0\",\"showlegend\":true,\"type\":\"splom\",\"diagonal\":{\"visible\":false}}],                        {\"template\":{\"data\":{\"histogram2dcontour\":[{\"type\":\"histogram2dcontour\",\"colorbar\":{\"outlinewidth\":0,\"ticks\":\"\"},\"colorscale\":[[0.0,\"#0d0887\"],[0.1111111111111111,\"#46039f\"],[0.2222222222222222,\"#7201a8\"],[0.3333333333333333,\"#9c179e\"],[0.4444444444444444,\"#bd3786\"],[0.5555555555555556,\"#d8576b\"],[0.6666666666666666,\"#ed7953\"],[0.7777777777777778,\"#fb9f3a\"],[0.8888888888888888,\"#fdca26\"],[1.0,\"#f0f921\"]]}],\"choropleth\":[{\"type\":\"choropleth\",\"colorbar\":{\"outlinewidth\":0,\"ticks\":\"\"}}],\"histogram2d\":[{\"type\":\"histogram2d\",\"colorbar\":{\"outlinewidth\":0,\"ticks\":\"\"},\"colorscale\":[[0.0,\"#0d0887\"],[0.1111111111111111,\"#46039f\"],[0.2222222222222222,\"#7201a8\"],[0.3333333333333333,\"#9c179e\"],[0.4444444444444444,\"#bd3786\"],[0.5555555555555556,\"#d8576b\"],[0.6666666666666666,\"#ed7953\"],[0.7777777777777778,\"#fb9f3a\"],[0.8888888888888888,\"#fdca26\"],[1.0,\"#f0f921\"]]}],\"heatmap\":[{\"type\":\"heatmap\",\"colorbar\":{\"outlinewidth\":0,\"ticks\":\"\"},\"colorscale\":[[0.0,\"#0d0887\"],[0.1111111111111111,\"#46039f\"],[0.2222222222222222,\"#7201a8\"],[0.3333333333333333,\"#9c179e\"],[0.4444444444444444,\"#bd3786\"],[0.5555555555555556,\"#d8576b\"],[0.6666666666666666,\"#ed7953\"],[0.7777777777777778,\"#fb9f3a\"],[0.8888888888888888,\"#fdca26\"],[1.0,\"#f0f921\"]]}],\"heatmapgl\":[{\"type\":\"heatmapgl\",\"colorbar\":{\"outlinewidth\":0,\"ticks\":\"\"},\"colorscale\":[[0.0,\"#0d0887\"],[0.1111111111111111,\"#46039f\"],[0.2222222222222222,\"#7201a8\"],[0.3333333333333333,\"#9c179e\"],[0.4444444444444444,\"#bd3786\"],[0.5555555555555556,\"#d8576b\"],[0.6666666666666666,\"#ed7953\"],[0.7777777777777778,\"#fb9f3a\"],[0.8888888888888888,\"#fdca26\"],[1.0,\"#f0f921\"]]}],\"contourcarpet\":[{\"type\":\"contourcarpet\",\"colorbar\":{\"outlinewidth\":0,\"ticks\":\"\"}}],\"contour\":[{\"type\":\"contour\",\"colorbar\":{\"outlinewidth\":0,\"ticks\":\"\"},\"colorscale\":[[0.0,\"#0d0887\"],[0.1111111111111111,\"#46039f\"],[0.2222222222222222,\"#7201a8\"],[0.3333333333333333,\"#9c179e\"],[0.4444444444444444,\"#bd3786\"],[0.5555555555555556,\"#d8576b\"],[0.6666666666666666,\"#ed7953\"],[0.7777777777777778,\"#fb9f3a\"],[0.8888888888888888,\"#fdca26\"],[1.0,\"#f0f921\"]]}],\"surface\":[{\"type\":\"surface\",\"colorbar\":{\"outlinewidth\":0,\"ticks\":\"\"},\"colorscale\":[[0.0,\"#0d0887\"],[0.1111111111111111,\"#46039f\"],[0.2222222222222222,\"#7201a8\"],[0.3333333333333333,\"#9c179e\"],[0.4444444444444444,\"#bd3786\"],[0.5555555555555556,\"#d8576b\"],[0.6666666666666666,\"#ed7953\"],[0.7777777777777778,\"#fb9f3a\"],[0.8888888888888888,\"#fdca26\"],[1.0,\"#f0f921\"]]}],\"mesh3d\":[{\"type\":\"mesh3d\",\"colorbar\":{\"outlinewidth\":0,\"ticks\":\"\"}}],\"scatter\":[{\"fillpattern\":{\"fillmode\":\"overlay\",\"size\":10,\"solidity\":0.2},\"type\":\"scatter\"}],\"parcoords\":[{\"type\":\"parcoords\",\"line\":{\"colorbar\":{\"outlinewidth\":0,\"ticks\":\"\"}}}],\"scatterpolargl\":[{\"type\":\"scatterpolargl\",\"marker\":{\"colorbar\":{\"outlinewidth\":0,\"ticks\":\"\"}}}],\"bar\":[{\"error_x\":{\"color\":\"#2a3f5f\"},\"error_y\":{\"color\":\"#2a3f5f\"},\"marker\":{\"line\":{\"color\":\"#E5ECF6\",\"width\":0.5},\"pattern\":{\"fillmode\":\"overlay\",\"size\":10,\"solidity\":0.2}},\"type\":\"bar\"}],\"scattergeo\":[{\"type\":\"scattergeo\",\"marker\":{\"colorbar\":{\"outlinewidth\":0,\"ticks\":\"\"}}}],\"scatterpolar\":[{\"type\":\"scatterpolar\",\"marker\":{\"colorbar\":{\"outlinewidth\":0,\"ticks\":\"\"}}}],\"histogram\":[{\"marker\":{\"pattern\":{\"fillmode\":\"overlay\",\"size\":10,\"solidity\":0.2}},\"type\":\"histogram\"}],\"scattergl\":[{\"type\":\"scattergl\",\"marker\":{\"colorbar\":{\"outlinewidth\":0,\"ticks\":\"\"}}}],\"scatter3d\":[{\"type\":\"scatter3d\",\"line\":{\"colorbar\":{\"outlinewidth\":0,\"ticks\":\"\"}},\"marker\":{\"colorbar\":{\"outlinewidth\":0,\"ticks\":\"\"}}}],\"scattermapbox\":[{\"type\":\"scattermapbox\",\"marker\":{\"colorbar\":{\"outlinewidth\":0,\"ticks\":\"\"}}}],\"scatterternary\":[{\"type\":\"scatterternary\",\"marker\":{\"colorbar\":{\"outlinewidth\":0,\"ticks\":\"\"}}}],\"scattercarpet\":[{\"type\":\"scattercarpet\",\"marker\":{\"colorbar\":{\"outlinewidth\":0,\"ticks\":\"\"}}}],\"carpet\":[{\"aaxis\":{\"endlinecolor\":\"#2a3f5f\",\"gridcolor\":\"white\",\"linecolor\":\"white\",\"minorgridcolor\":\"white\",\"startlinecolor\":\"#2a3f5f\"},\"baxis\":{\"endlinecolor\":\"#2a3f5f\",\"gridcolor\":\"white\",\"linecolor\":\"white\",\"minorgridcolor\":\"white\",\"startlinecolor\":\"#2a3f5f\"},\"type\":\"carpet\"}],\"table\":[{\"cells\":{\"fill\":{\"color\":\"#EBF0F8\"},\"line\":{\"color\":\"white\"}},\"header\":{\"fill\":{\"color\":\"#C8D4E3\"},\"line\":{\"color\":\"white\"}},\"type\":\"table\"}],\"barpolar\":[{\"marker\":{\"line\":{\"color\":\"#E5ECF6\",\"width\":0.5},\"pattern\":{\"fillmode\":\"overlay\",\"size\":10,\"solidity\":0.2}},\"type\":\"barpolar\"}],\"pie\":[{\"automargin\":true,\"type\":\"pie\"}]},\"layout\":{\"autotypenumbers\":\"strict\",\"colorway\":[\"#636efa\",\"#EF553B\",\"#00cc96\",\"#ab63fa\",\"#FFA15A\",\"#19d3f3\",\"#FF6692\",\"#B6E880\",\"#FF97FF\",\"#FECB52\"],\"font\":{\"color\":\"#2a3f5f\"},\"hovermode\":\"closest\",\"hoverlabel\":{\"align\":\"left\"},\"paper_bgcolor\":\"white\",\"plot_bgcolor\":\"#E5ECF6\",\"polar\":{\"bgcolor\":\"#E5ECF6\",\"angularaxis\":{\"gridcolor\":\"white\",\"linecolor\":\"white\",\"ticks\":\"\"},\"radialaxis\":{\"gridcolor\":\"white\",\"linecolor\":\"white\",\"ticks\":\"\"}},\"ternary\":{\"bgcolor\":\"#E5ECF6\",\"aaxis\":{\"gridcolor\":\"white\",\"linecolor\":\"white\",\"ticks\":\"\"},\"baxis\":{\"gridcolor\":\"white\",\"linecolor\":\"white\",\"ticks\":\"\"},\"caxis\":{\"gridcolor\":\"white\",\"linecolor\":\"white\",\"ticks\":\"\"}},\"coloraxis\":{\"colorbar\":{\"outlinewidth\":0,\"ticks\":\"\"}},\"colorscale\":{\"sequential\":[[0.0,\"#0d0887\"],[0.1111111111111111,\"#46039f\"],[0.2222222222222222,\"#7201a8\"],[0.3333333333333333,\"#9c179e\"],[0.4444444444444444,\"#bd3786\"],[0.5555555555555556,\"#d8576b\"],[0.6666666666666666,\"#ed7953\"],[0.7777777777777778,\"#fb9f3a\"],[0.8888888888888888,\"#fdca26\"],[1.0,\"#f0f921\"]],\"sequentialminus\":[[0.0,\"#0d0887\"],[0.1111111111111111,\"#46039f\"],[0.2222222222222222,\"#7201a8\"],[0.3333333333333333,\"#9c179e\"],[0.4444444444444444,\"#bd3786\"],[0.5555555555555556,\"#d8576b\"],[0.6666666666666666,\"#ed7953\"],[0.7777777777777778,\"#fb9f3a\"],[0.8888888888888888,\"#fdca26\"],[1.0,\"#f0f921\"]],\"diverging\":[[0,\"#8e0152\"],[0.1,\"#c51b7d\"],[0.2,\"#de77ae\"],[0.3,\"#f1b6da\"],[0.4,\"#fde0ef\"],[0.5,\"#f7f7f7\"],[0.6,\"#e6f5d0\"],[0.7,\"#b8e186\"],[0.8,\"#7fbc41\"],[0.9,\"#4d9221\"],[1,\"#276419\"]]},\"xaxis\":{\"gridcolor\":\"white\",\"linecolor\":\"white\",\"ticks\":\"\",\"title\":{\"standoff\":15},\"zerolinecolor\":\"white\",\"automargin\":true,\"zerolinewidth\":2},\"yaxis\":{\"gridcolor\":\"white\",\"linecolor\":\"white\",\"ticks\":\"\",\"title\":{\"standoff\":15},\"zerolinecolor\":\"white\",\"automargin\":true,\"zerolinewidth\":2},\"scene\":{\"xaxis\":{\"backgroundcolor\":\"#E5ECF6\",\"gridcolor\":\"white\",\"linecolor\":\"white\",\"showbackground\":true,\"ticks\":\"\",\"zerolinecolor\":\"white\",\"gridwidth\":2},\"yaxis\":{\"backgroundcolor\":\"#E5ECF6\",\"gridcolor\":\"white\",\"linecolor\":\"white\",\"showbackground\":true,\"ticks\":\"\",\"zerolinecolor\":\"white\",\"gridwidth\":2},\"zaxis\":{\"backgroundcolor\":\"#E5ECF6\",\"gridcolor\":\"white\",\"linecolor\":\"white\",\"showbackground\":true,\"ticks\":\"\",\"zerolinecolor\":\"white\",\"gridwidth\":2}},\"shapedefaults\":{\"line\":{\"color\":\"#2a3f5f\"}},\"annotationdefaults\":{\"arrowcolor\":\"#2a3f5f\",\"arrowhead\":0,\"arrowwidth\":1},\"geo\":{\"bgcolor\":\"white\",\"landcolor\":\"#E5ECF6\",\"subunitcolor\":\"white\",\"showland\":true,\"showlakes\":true,\"lakecolor\":\"white\"},\"title\":{\"x\":0.05},\"mapbox\":{\"style\":\"light\"}}},\"legend\":{\"title\":{\"text\":\"color\"},\"tracegroupgap\":0},\"margin\":{\"t\":60},\"dragmode\":\"select\"},                        {\"responsive\": true}                    ).then(function(){\n",
       "                            \n",
       "var gd = document.getElementById('a202e9a5-6952-4bb4-9ea5-1632d079c71e');\n",
       "var x = new MutationObserver(function (mutations, observer) {{\n",
       "        var display = window.getComputedStyle(gd).display;\n",
       "        if (!display || display === 'none') {{\n",
       "            console.log([gd, 'removed!']);\n",
       "            Plotly.purge(gd);\n",
       "            observer.disconnect();\n",
       "        }}\n",
       "}});\n",
       "\n",
       "// Listen for the removal of the full notebook cells\n",
       "var notebookContainer = gd.closest('#notebook-container');\n",
       "if (notebookContainer) {{\n",
       "    x.observe(notebookContainer, {childList: true});\n",
       "}}\n",
       "\n",
       "// Listen for the clearing of the current output cell\n",
       "var outputEl = gd.closest('.output');\n",
       "if (outputEl) {{\n",
       "    x.observe(outputEl, {childList: true});\n",
       "}}\n",
       "\n",
       "                        })                };                });            </script>        </div>"
      ]
     },
     "metadata": {},
     "output_type": "display_data"
    },
    {
     "data": {
      "image/png": "[encoded data removed]",
      "text/plain": [
       "<Figure size 640x480 with 1 Axes>"
      ]
     },
     "metadata": {},
     "output_type": "display_data"
    }
   ],
   "source": [
    "pca_2_df = pca_reduction(df_cancer, 2)"
   ]
  },
  {
   "cell_type": "code",
   "execution_count": 83,
   "id": "e7e39be0-a03f-4c90-accf-6f1953d91fd4",
   "metadata": {},
   "outputs": [
    {
     "data": {
      "text/html": [
       "<div>\n",
       "<style scoped>\n",
       "    .dataframe tbody tr th:only-of-type {\n",
       "        vertical-align: middle;\n",
       "    }\n",
       "\n",
       "    .dataframe tbody tr th {\n",
       "        vertical-align: top;\n",
       "    }\n",
       "\n",
       "    .dataframe thead th {\n",
       "        text-align: right;\n",
       "    }\n",
       "</style>\n",
       "<table border=\"1\" class=\"dataframe\">\n",
       "  <thead>\n",
       "    <tr style=\"text-align: right;\">\n",
       "      <th></th>\n",
       "      <th>principal_comp_1</th>\n",
       "      <th>principal_comp_2</th>\n",
       "      <th>target</th>\n",
       "    </tr>\n",
       "  </thead>\n",
       "  <tbody>\n",
       "    <tr>\n",
       "      <th>0</th>\n",
       "      <td>9.184755</td>\n",
       "      <td>1.946870</td>\n",
       "      <td>0.0</td>\n",
       "    </tr>\n",
       "    <tr>\n",
       "      <th>1</th>\n",
       "      <td>2.385703</td>\n",
       "      <td>-3.764859</td>\n",
       "      <td>0.0</td>\n",
       "    </tr>\n",
       "    <tr>\n",
       "      <th>2</th>\n",
       "      <td>5.728855</td>\n",
       "      <td>-1.074229</td>\n",
       "      <td>0.0</td>\n",
       "    </tr>\n",
       "    <tr>\n",
       "      <th>3</th>\n",
       "      <td>7.116691</td>\n",
       "      <td>10.266556</td>\n",
       "      <td>0.0</td>\n",
       "    </tr>\n",
       "    <tr>\n",
       "      <th>4</th>\n",
       "      <td>3.931842</td>\n",
       "      <td>-1.946359</td>\n",
       "      <td>0.0</td>\n",
       "    </tr>\n",
       "    <tr>\n",
       "      <th>...</th>\n",
       "      <td>...</td>\n",
       "      <td>...</td>\n",
       "      <td>...</td>\n",
       "    </tr>\n",
       "    <tr>\n",
       "      <th>564</th>\n",
       "      <td>6.433655</td>\n",
       "      <td>-3.573673</td>\n",
       "      <td>0.0</td>\n",
       "    </tr>\n",
       "    <tr>\n",
       "      <th>565</th>\n",
       "      <td>3.790048</td>\n",
       "      <td>-3.580897</td>\n",
       "      <td>0.0</td>\n",
       "    </tr>\n",
       "    <tr>\n",
       "      <th>566</th>\n",
       "      <td>1.255075</td>\n",
       "      <td>-1.900624</td>\n",
       "      <td>0.0</td>\n",
       "    </tr>\n",
       "    <tr>\n",
       "      <th>567</th>\n",
       "      <td>10.365673</td>\n",
       "      <td>1.670540</td>\n",
       "      <td>0.0</td>\n",
       "    </tr>\n",
       "    <tr>\n",
       "      <th>568</th>\n",
       "      <td>-5.470430</td>\n",
       "      <td>-0.670047</td>\n",
       "      <td>1.0</td>\n",
       "    </tr>\n",
       "  </tbody>\n",
       "</table>\n",
       "<p>569 rows × 3 columns</p>\n",
       "</div>"
      ],
      "text/plain": [
       "     principal_comp_1  principal_comp_2 target\n",
       "0            9.184755          1.946870    0.0\n",
       "1            2.385703         -3.764859    0.0\n",
       "2            5.728855         -1.074229    0.0\n",
       "3            7.116691         10.266556    0.0\n",
       "4            3.931842         -1.946359    0.0\n",
       "..                ...               ...    ...\n",
       "564          6.433655         -3.573673    0.0\n",
       "565          3.790048         -3.580897    0.0\n",
       "566          1.255075         -1.900624    0.0\n",
       "567         10.365673          1.670540    0.0\n",
       "568         -5.470430         -0.670047    1.0\n",
       "\n",
       "[569 rows x 3 columns]"
      ]
     },
     "execution_count": 83,
     "metadata": {},
     "output_type": "execute_result"
    }
   ],
   "source": [
    "pca_2_df"
   ]
  },
  {
   "cell_type": "markdown",
   "id": "67f698f5-9b87-481a-a223-6354d1705264",
   "metadata": {},
   "source": [
    "#### Performing LDA"
   ]
  },
  {
   "cell_type": "code",
   "execution_count": 95,
   "id": "4ba49801-7cb8-4004-81b2-9863b8f834b1",
   "metadata": {},
   "outputs": [
    {
     "name": "stdout",
     "output_type": "stream",
     "text": [
      "variance ratio is: [100.]\n"
     ]
    },
    {
     "data": {
      "text/html": [
       "<div>\n",
       "<style scoped>\n",
       "    .dataframe tbody tr th:only-of-type {\n",
       "        vertical-align: middle;\n",
       "    }\n",
       "\n",
       "    .dataframe tbody tr th {\n",
       "        vertical-align: top;\n",
       "    }\n",
       "\n",
       "    .dataframe thead th {\n",
       "        text-align: right;\n",
       "    }\n",
       "</style>\n",
       "<table border=\"1\" class=\"dataframe\">\n",
       "  <thead>\n",
       "    <tr style=\"text-align: right;\">\n",
       "      <th></th>\n",
       "      <th>lda_comp_1</th>\n",
       "      <th>target</th>\n",
       "    </tr>\n",
       "  </thead>\n",
       "  <tbody>\n",
       "    <tr>\n",
       "      <th>0</th>\n",
       "      <td>-3.323927</td>\n",
       "      <td>0.0</td>\n",
       "    </tr>\n",
       "    <tr>\n",
       "      <th>1</th>\n",
       "      <td>-2.319108</td>\n",
       "      <td>0.0</td>\n",
       "    </tr>\n",
       "    <tr>\n",
       "      <th>2</th>\n",
       "      <td>-3.747425</td>\n",
       "      <td>0.0</td>\n",
       "    </tr>\n",
       "    <tr>\n",
       "      <th>3</th>\n",
       "      <td>-4.048549</td>\n",
       "      <td>0.0</td>\n",
       "    </tr>\n",
       "    <tr>\n",
       "      <th>4</th>\n",
       "      <td>-2.281158</td>\n",
       "      <td>0.0</td>\n",
       "    </tr>\n",
       "    <tr>\n",
       "      <th>5</th>\n",
       "      <td>-1.611503</td>\n",
       "      <td>0.0</td>\n",
       "    </tr>\n",
       "    <tr>\n",
       "      <th>6</th>\n",
       "      <td>-2.356531</td>\n",
       "      <td>0.0</td>\n",
       "    </tr>\n",
       "    <tr>\n",
       "      <th>7</th>\n",
       "      <td>-1.281223</td>\n",
       "      <td>0.0</td>\n",
       "    </tr>\n",
       "    <tr>\n",
       "      <th>8</th>\n",
       "      <td>-1.608281</td>\n",
       "      <td>0.0</td>\n",
       "    </tr>\n",
       "    <tr>\n",
       "      <th>9</th>\n",
       "      <td>-3.862667</td>\n",
       "      <td>0.0</td>\n",
       "    </tr>\n",
       "  </tbody>\n",
       "</table>\n",
       "</div>"
      ],
      "text/plain": [
       "   lda_comp_1 target\n",
       "0   -3.323927    0.0\n",
       "1   -2.319108    0.0\n",
       "2   -3.747425    0.0\n",
       "3   -4.048549    0.0\n",
       "4   -2.281158    0.0\n",
       "5   -1.611503    0.0\n",
       "6   -2.356531    0.0\n",
       "7   -1.281223    0.0\n",
       "8   -1.608281    0.0\n",
       "9   -3.862667    0.0"
      ]
     },
     "execution_count": 95,
     "metadata": {},
     "output_type": "execute_result"
    }
   ],
   "source": [
    "lda_df = lda_reduction(df_cancer,1)\n",
    "lda_df.head(10)"
   ]
  },
  {
   "cell_type": "markdown",
   "id": "6c39766c-ad8d-4fab-b62a-4789d17795da",
   "metadata": {},
   "source": [
    "#### Comments"
   ]
  },
  {
   "cell_type": "markdown",
   "id": "21f8d1ca-bb13-4580-b777-17a50bf66bbd",
   "metadata": {},
   "source": [
    "Maximum Variance individually from pca is 44.3% and combined it is 63.9% while in lda it is 100%.This shows that lda performs better at reducing the dimension of this data. One rease for lda to perform better could be that it takes into account different classes in the data and tries to maximise the variance ratio in that class."
   ]
  }
 ],
 "metadata": {
  "kernelspec": {
   "display_name": "aidi_1002",
   "language": "python",
   "name": "aidi_1002"
  },
  "language_info": {
   "codemirror_mode": {
    "name": "ipython",
    "version": 3
   },
   "file_extension": ".py",
   "mimetype": "text/x-python",
   "name": "python",
   "nbconvert_exporter": "python",
   "pygments_lexer": "ipython3",
   "version": "3.10.6"
  }
 },
 "nbformat": 4,
 "nbformat_minor": 5
}
