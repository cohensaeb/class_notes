{
 "cells": [
  {
   "cell_type": "markdown",
   "id": "0ce7fece-9f1e-4673-96e3-ced49ce15cb6",
   "metadata": {},
   "source": [
    "### Ahmad Sayeb\n",
    "**All questions was answered by me without any help from any sources. Only checked Sklearn library examples for a sample**"
   ]
  },
  {
   "cell_type": "code",
   "execution_count": 194,
   "id": "5d3e3c32-396c-4f55-a94f-234b59fb028b",
   "metadata": {},
   "outputs": [],
   "source": [
    "import pandas as pd\n",
    "import numpy as np\n",
    "#import sklearn\n",
    "from sklearn.model_selection import train_test_split\n",
    "from sklearn.datasets import load_iris\n",
    "from sklearn.linear_model import LogisticRegression\n",
    "from sklearn.tree import DecisionTreeClassifier\n",
    "from sklearn.ensemble import RandomForestClassifier\n",
    "from sklearn.naive_bayes import GaussianNB\n",
    "from sklearn.metrics import f1_score, accuracy_score\n",
    "\n",
    "# importing package\n",
    "import matplotlib.pyplot as plt"
   ]
  },
  {
   "cell_type": "markdown",
   "id": "99947c3a-f402-4b38-8523-f94fb1367761",
   "metadata": {},
   "source": [
    "### Question 1"
   ]
  },
  {
   "cell_type": "code",
   "execution_count": 207,
   "id": "89ff7183-aec1-4838-a6d7-009854905347",
   "metadata": {},
   "outputs": [],
   "source": [
    "# Loading Iris data set\n",
    "iris = load_iris()\n",
    "df = pd.DataFrame(data= np.c_[iris['data'], iris['target']],\n",
    "                     columns= iris['feature_names'] + ['target'])"
   ]
  },
  {
   "cell_type": "code",
   "execution_count": 208,
   "id": "4e0856ea-68a6-46ed-ba8a-d4df3f8bd3ed",
   "metadata": {},
   "outputs": [],
   "source": [
    "X = df.loc[:, df.columns!='target']\n",
    "y = df[['target']]\n",
    "# dividing the data into 80 and 20 percent\n",
    "X_train, X_test, y_train, y_test = train_test_split(X, y, test_size=0.20, random_state=42)"
   ]
  },
  {
   "cell_type": "markdown",
   "id": "6be88870-8ff5-4b93-ba7e-f65f0367eb19",
   "metadata": {},
   "source": [
    "**In this function we take the defined percentage of the train data and train the model with it. we define four different models and fit those models with the percentage of the train data, logistic regression had to be done with 200 iteration because it would not converge for small set of data (first few iteration which contained very small number of data)**"
   ]
  },
  {
   "cell_type": "code",
   "execution_count": 186,
   "id": "ee540338-d19a-4e82-bf82-dabf2d304c41",
   "metadata": {},
   "outputs": [],
   "source": [
    "def train_with_perc(X_train, y_train, perc):\n",
    "    len_X_perc = int(len(X_train) * perc)\n",
    "    len_y_perc = int(len(y_train) * perc)\n",
    "    \n",
    "    X_train_perc = X_train[: len_X_perc]\n",
    "    y_train_perc = y_train[: len_y_perc]\n",
    "    #defining all the models\n",
    "    #logistic is not converging with 100\n",
    "    lr = LogisticRegression(max_iter=200)\n",
    "    dr = DecisionTreeClassifier()\n",
    "    rf = RandomForestClassifier()\n",
    "    nb = GaussianNB()\n",
    "    \n",
    "    #training models in the data\n",
    "    lr.fit(X_train_perc, y_train_perc.values.ravel())\n",
    "    dr.fit(X_train_perc, y_train_perc.values.ravel())\n",
    "    rf.fit(X_train_perc, y_train_perc.values.ravel())\n",
    "    nb.fit(X_train_perc, y_train_perc.values.ravel())\n",
    "    \n",
    "    return lr, dr, rf, nb"
   ]
  },
  {
   "cell_type": "markdown",
   "id": "6206b26d-b44f-4eb9-9563-6e6f54e1dc38",
   "metadata": {},
   "source": [
    "**here we define the percentages and perform the model training for the chosen portion of the data calling the function above. we save each iteration models in a dictionary. we later use this dictionary that models are saved to predict**"
   ]
  },
  {
   "cell_type": "code",
   "execution_count": 302,
   "id": "e71ae891-679e-4794-b940-3ec01a8d52c2",
   "metadata": {},
   "outputs": [],
   "source": [
    "models_dict = {}\n",
    "for i in range(20):\n",
    "    models_dict[i] = [None,None,None, None]\n",
    "\n",
    "percentages = []\n",
    "start_perc = 0.05\n",
    "percentages.append(start_perc)\n",
    "for i in range(1,20):\n",
    "    percentages.append(percentages[i-1] + 0.05)\n",
    "    \n",
    "for i in range(len(models_dict.keys())):\n",
    "    lr, dr, rf, nb = train_with_perc(X_train, y_train, percentages[i])\n",
    "    models_dict[i] = [lr, dr, rf, nb]"
   ]
  },
  {
   "cell_type": "markdown",
   "id": "cbbefb6f-646f-4383-8006-b7774e3e5353",
   "metadata": {},
   "source": [
    "**This function uses the models that were trained with different percentage of train data and predicts values. then calculates the f1_score and accuracy and stores them in a dictionary for different models.**"
   ]
  },
  {
   "cell_type": "code",
   "execution_count": 303,
   "id": "a7d5a0e4-4f4d-403f-a07c-4f05e99c56e1",
   "metadata": {},
   "outputs": [],
   "source": [
    "def f1_and_accuracy_list(models, X_test, y_test):\n",
    "    lr, dr, rf, nb = models[0], models[1], models[2], models[3]\n",
    "    lr_predicted = lr.predict(X_test)\n",
    "    dr_predicted = dr.predict(X_test)\n",
    "    rf_predicted = rf.predict(X_test)\n",
    "    nb_predicted = nb.predict(X_test)\n",
    "    \n",
    "    f1_score_lr = f1_score(lr_predicted, y_test, average='micro')\n",
    "    accuracy_score_lr = accuracy_score(lr_predicted, y_test)\n",
    "    #------------------------------\n",
    "    f1_score_dr = f1_score(dr_predicted, y_test, average='micro')\n",
    "    accuracy_score_dr = accuracy_score(dr_predicted, y_test)\n",
    "    #------------------------------\n",
    "    f1_score_rf = f1_score(rf_predicted, y_test, average='micro')\n",
    "    accuracy_score_rf = accuracy_score(rf_predicted, y_test)\n",
    "    #-------------------------------\n",
    "    f1_score_nb = f1_score(nb_predicted, y_test, average='micro')\n",
    "    accuracy_score_nb = accuracy_score(nb_predicted, y_test)\n",
    "    \n",
    "    scores_dict = {'lr': (f1_score_lr, accuracy_score_lr), 'dr': (f1_score_dr, accuracy_score_dr), 'rf': (f1_score_rf, accuracy_score_rf), 'nb': (f1_score_nb, accuracy_score_nb)}\n",
    "\n",
    "    return scores_dict"
   ]
  },
  {
   "cell_type": "markdown",
   "id": "83c857d4-56e1-4c72-887a-f2bde339b725",
   "metadata": {},
   "source": [
    "**Accuracy and f1_score for different model for different iteration has been collected in a dictionary. the dictionary contains all four classifiers as the keys and it has the f1 score and accuracy. f1_score is the first in the tuple and accuracy is the second. for example 'lr': (0.3, 0.5) says that for the first iteration for logistic regression the f1_score is 0.3 and accuracy is 0.5**"
   ]
  },
  {
   "cell_type": "code",
   "execution_count": 304,
   "id": "951bfd4e-caa6-4e9b-b734-1835c18cf8c2",
   "metadata": {},
   "outputs": [
    {
     "name": "stdout",
     "output_type": "stream",
     "text": [
      "{'lr': (0.7333333333333333, 0.7333333333333333), 'dr': (0.36666666666666664, 0.36666666666666664), 'rf': (0.6666666666666666, 0.6666666666666666), 'nb': (0.3333333333333333, 0.3333333333333333)}\n",
      "{'lr': (0.6666666666666666, 0.6666666666666666), 'dr': (1.0, 1.0), 'rf': (0.9666666666666667, 0.9666666666666667), 'nb': (0.6, 0.6)}\n",
      "{'lr': (1.0, 1.0), 'dr': (1.0, 1.0), 'rf': (1.0, 1.0), 'nb': (0.9333333333333333, 0.9333333333333333)}\n",
      "{'lr': (0.9666666666666667, 0.9666666666666667), 'dr': (1.0, 1.0), 'rf': (1.0, 1.0), 'nb': (1.0, 1.0)}\n",
      "{'lr': (0.9666666666666667, 0.9666666666666667), 'dr': (1.0, 1.0), 'rf': (1.0, 1.0), 'nb': (1.0, 1.0)}\n",
      "{'lr': (0.9666666666666667, 0.9666666666666667), 'dr': (0.9666666666666667, 0.9666666666666667), 'rf': (1.0, 1.0), 'nb': (1.0, 1.0)}\n",
      "{'lr': (1.0, 1.0), 'dr': (0.9666666666666667, 0.9666666666666667), 'rf': (1.0, 1.0), 'nb': (1.0, 1.0)}\n",
      "{'lr': (1.0, 1.0), 'dr': (0.9666666666666667, 0.9666666666666667), 'rf': (0.9666666666666667, 0.9666666666666667), 'nb': (1.0, 1.0)}\n",
      "{'lr': (1.0, 1.0), 'dr': (0.9666666666666667, 0.9666666666666667), 'rf': (0.9666666666666667, 0.9666666666666667), 'nb': (1.0, 1.0)}\n",
      "{'lr': (1.0, 1.0), 'dr': (0.9666666666666667, 0.9666666666666667), 'rf': (1.0, 1.0), 'nb': (1.0, 1.0)}\n",
      "{'lr': (1.0, 1.0), 'dr': (0.9666666666666667, 0.9666666666666667), 'rf': (1.0, 1.0), 'nb': (1.0, 1.0)}\n",
      "{'lr': (1.0, 1.0), 'dr': (0.9666666666666667, 0.9666666666666667), 'rf': (1.0, 1.0), 'nb': (1.0, 1.0)}\n",
      "{'lr': (1.0, 1.0), 'dr': (1.0, 1.0), 'rf': (1.0, 1.0), 'nb': (1.0, 1.0)}\n",
      "{'lr': (1.0, 1.0), 'dr': (1.0, 1.0), 'rf': (1.0, 1.0), 'nb': (1.0, 1.0)}\n",
      "{'lr': (1.0, 1.0), 'dr': (1.0, 1.0), 'rf': (1.0, 1.0), 'nb': (1.0, 1.0)}\n",
      "{'lr': (1.0, 1.0), 'dr': (1.0, 1.0), 'rf': (1.0, 1.0), 'nb': (1.0, 1.0)}\n",
      "{'lr': (1.0, 1.0), 'dr': (1.0, 1.0), 'rf': (1.0, 1.0), 'nb': (1.0, 1.0)}\n",
      "{'lr': (1.0, 1.0), 'dr': (1.0, 1.0), 'rf': (1.0, 1.0), 'nb': (1.0, 1.0)}\n",
      "{'lr': (1.0, 1.0), 'dr': (1.0, 1.0), 'rf': (1.0, 1.0), 'nb': (1.0, 1.0)}\n",
      "{'lr': (1.0, 1.0), 'dr': (1.0, 1.0), 'rf': (1.0, 1.0), 'nb': (1.0, 1.0)}\n"
     ]
    }
   ],
   "source": [
    "lr_f1_scores = []\n",
    "lr_acc_scores = []\n",
    "#----------------\n",
    "dr_f1_scores = []\n",
    "dr_acc_scores = []\n",
    "#--------------\n",
    "rf_f1_scores = []\n",
    "rf_acc_scores = []\n",
    "#--------------\n",
    "nb_f1_scores = []\n",
    "nb_acc_scores = []\n",
    "for models in list(models_dict.values()):\n",
    "    scores_dict = f1_and_accuracy_list(models, X_test, y_test)\n",
    "    print(scores_dict)\n",
    "    lr_f1_scores.append(scores_dict['lr'][0])\n",
    "    lr_acc_scores.append(scores_dict['lr'][1])\n",
    "    dr_f1_scores.append(scores_dict['dr'][0])\n",
    "    dr_acc_scores.append(scores_dict['dr'][1])\n",
    "    rf_f1_scores.append(scores_dict['rf'][0])\n",
    "    rf_acc_scores.append(scores_dict['rf'][1])\n",
    "    nb_f1_scores.append(scores_dict['nb'][0])\n",
    "    nb_acc_scores.append(scores_dict['nb'][1])"
   ]
  },
  {
   "cell_type": "code",
   "execution_count": 306,
   "id": "a9e37adb-91ba-47a9-8a73-2a599c01f53c",
   "metadata": {},
   "outputs": [
    {
     "data": {
      "image/png": "[encoded data removed]",
      "text/plain": [
       "<Figure size 640x480 with 1 Axes>"
      ]
     },
     "metadata": {},
     "output_type": "display_data"
    }
   ],
   "source": [
    "plt.plot(percentages, lr_f1_scores, label='LR')\n",
    "plt.plot(percentages, dr_f1_scores, label='DT')\n",
    "plt.plot(percentages, rf_f1_scores, label='RF')\n",
    "plt.plot(percentages, nb_f1_scores, label='NB')\n",
    "\n",
    "plt.legend()\n",
    "plt.xlabel('Training Size ')\n",
    "plt.title('Training size VS F1_score')\n",
    "plt.show()"
   ]
  },
  {
   "cell_type": "code",
   "execution_count": 307,
   "id": "590b7d7b-36ca-438a-a924-e84a10ca9931",
   "metadata": {},
   "outputs": [
    {
     "data": {
      "image/png": "[encoded data removed]",
      "text/plain": [
       "<Figure size 640x480 with 1 Axes>"
      ]
     },
     "metadata": {},
     "output_type": "display_data"
    }
   ],
   "source": [
    "plt.plot(percentages, lr_acc_scores, label='LR')\n",
    "plt.plot(percentages, dr_acc_scores, label='DT')\n",
    "plt.plot(percentages, rf_acc_scores, label='RF')\n",
    "plt.plot(percentages, nb_acc_scores, label='NB')\n",
    "\n",
    "plt.legend()\n",
    "plt.xlabel('Training Size')\n",
    "plt.title('Training size VS Accuracy')\n",
    "plt.show()"
   ]
  },
  {
   "cell_type": "markdown",
   "id": "a488b230-101f-4154-a55c-78cc8f22dbb2",
   "metadata": {},
   "source": [
    "### Question 2"
   ]
  },
  {
   "cell_type": "code",
   "execution_count": 287,
   "id": "70b5dff2-1d2b-4238-9f01-c6d20efbac7a",
   "metadata": {},
   "outputs": [],
   "source": [
    "# n = 10\n",
    "def linear_regression(X, r, N):\n",
    "    '''This function calculates w1, w0'''\n",
    "    \n",
    "    #finding mean this takes into consideration N=10\n",
    "    r_mean = np.mean(r)\n",
    "    X_mean = np.mean(X)\n",
    "\n",
    "    \n",
    "    #---------------------------\n",
    "    up_numbers = []\n",
    "    for i in range(N):\n",
    "        up_numbers.append(X[i]*r[i])\n",
    "        \n",
    "    sum_up = sum(up_numbers)\n",
    "    \n",
    "    nominator = sum_up - (X_mean*r_mean*N)\n",
    "    \n",
    "    #------------------------------\n",
    "    down_numbers = []\n",
    "    for i in range(len(X)):\n",
    "        down_numbers.append(X[i]*X[i])\n",
    "    \n",
    "    sum_down = sum(down_numbers)\n",
    "    \n",
    "    denominator = sum_down - (N*X_mean*X_mean)\n",
    "    \n",
    "    w1 = nominator/denominator\n",
    "    w0 = r_mean - w1*X_mean\n",
    "    \n",
    "    return w0, w1\n",
    "\n",
    "\n",
    "def apply_linear(X, w0, w1):\n",
    "    f_x = []\n",
    "    for value in X:\n",
    "        f_x.append(w0 + w1*value)\n",
    "    \n",
    "    return f_x\n",
    "\n",
    "\n",
    "def rmse_calc(f_x, X, N):\n",
    "    diffs = []\n",
    "    \n",
    "    for i in range(len(f_x)):\n",
    "        diffs.append((f_x[i] - X[i])**2)\n",
    "    \n",
    "    sum_diffs = sum(diffs)\n",
    "    rms = 1/N * sum_diffs\n",
    "    \n",
    "    return rms\n",
    "\n",
    "\n",
    "def mae_calc(f_x, X, N):\n",
    "    errors = []\n",
    "    for i in range(N):\n",
    "        errors.append(abs(f_x[i] - X[i]))\n",
    "    \n",
    "    error = np.median(errors)\n",
    "    return error"
   ]
  },
  {
   "cell_type": "code",
   "execution_count": 288,
   "id": "cf3e86d2-d8f1-48f6-ba8b-4cb2cd06ce78",
   "metadata": {},
   "outputs": [],
   "source": [
    "X=[-1.4,-1.6,-1.3,0.2,2.0,-1.1,0.0,0.3,-0.9,-1.8]\n",
    "r=[6.9,7.8,8.0,5.8,1.9,7.3,5.8,5.8,8.2,9.6]"
   ]
  },
  {
   "cell_type": "markdown",
   "id": "d7733b87-508e-45d2-8861-ee4eaf2cf643",
   "metadata": {},
   "source": [
    "**Calculating w0 and w1 using the function define above**"
   ]
  },
  {
   "cell_type": "code",
   "execution_count": 289,
   "id": "ae266090-9773-4b3c-852a-9d639adacf15",
   "metadata": {},
   "outputs": [
    {
     "name": "stdout",
     "output_type": "stream",
     "text": [
      "w0, w1: 5.768549422336328 -1.6811617458279848\n"
     ]
    }
   ],
   "source": [
    "w0, w1 = linear_regression(X,r, 10)\n",
    "print('w0, w1:', w0, w1)"
   ]
  },
  {
   "cell_type": "markdown",
   "id": "1ec1cae6-a203-4125-8ea7-e58385e6cfe4",
   "metadata": {},
   "source": [
    "**Calculating the data points using our regression model**"
   ]
  },
  {
   "cell_type": "code",
   "execution_count": 290,
   "id": "ffdfa2de-3215-4bee-845e-2380656ea329",
   "metadata": {},
   "outputs": [
    {
     "name": "stdout",
     "output_type": "stream",
     "text": [
      "[8.122175866495507, 8.458408215661104, 7.954059691912708, 5.432317073170731, 2.406225930680358, 7.617827342747111, 5.768549422336328, 5.264200898587933, 7.281594993581514, 8.7946405648267]\n"
     ]
    }
   ],
   "source": [
    "f_x = apply_reg(X, w0,w1)\n",
    "print(f_x)"
   ]
  },
  {
   "cell_type": "markdown",
   "id": "e498b8df-666c-4185-bd58-b8341f308004",
   "metadata": {},
   "source": [
    "**Calculating rmse using function develped above**"
   ]
  },
  {
   "cell_type": "code",
   "execution_count": 291,
   "id": "e17ce27a-3a8c-45d8-8c78-118e57216449",
   "metadata": {},
   "outputs": [
    {
     "name": "stdout",
     "output_type": "stream",
     "text": [
      "61.812806322207955\n"
     ]
    }
   ],
   "source": [
    "rms = rmse(f_x, X, 10)\n",
    "print(rms)"
   ]
  },
  {
   "cell_type": "markdown",
   "id": "87d9dff4-27d4-49dc-9630-634ee2f0e4f7",
   "metadata": {},
   "source": [
    "**Calculating MAE using function developed above**"
   ]
  },
  {
   "cell_type": "code",
   "execution_count": 292,
   "id": "409925b6-a4ae-40bf-a99a-747e31cf7a35",
   "metadata": {},
   "outputs": [
    {
     "name": "stdout",
     "output_type": "stream",
     "text": [
      "8.449711168164313\n"
     ]
    }
   ],
   "source": [
    "mae_error = mae(f_x, X,10)\n",
    "print(mae_error)"
   ]
  },
  {
   "cell_type": "markdown",
   "id": "483c782b-c951-42a3-8871-eb9aa42fa355",
   "metadata": {},
   "source": [
    "**Predicting for Z values**"
   ]
  },
  {
   "cell_type": "code",
   "execution_count": 235,
   "id": "b732956c-c7ea-4757-96c8-df02f6ef1944",
   "metadata": {},
   "outputs": [
    {
     "name": "stdout",
     "output_type": "stream",
     "text": [
      "[6.777246469833119, 2.742458279845955, 5.936665596919126, 3.9192715019255444, 8.626524390243901]\n"
     ]
    }
   ],
   "source": [
    "Z=[-0.6,1.8,-0.1,1.1,-1.7]\n",
    "f_z = apply_reg(Z, w0, w1)\n",
    "print(f_z)"
   ]
  },
  {
   "cell_type": "markdown",
   "id": "17b82764-c098-464d-80f4-22640af90173",
   "metadata": {},
   "source": [
    "**from left to right in the array f_z1, f_z2, f_z3, f_z4, f_z5**"
   ]
  },
  {
   "cell_type": "markdown",
   "id": "77d10189-5c82-461c-a76a-999a296e1030",
   "metadata": {},
   "source": [
    "**Rmse and Mae for the U data**"
   ]
  },
  {
   "cell_type": "code",
   "execution_count": 238,
   "id": "8e56006f-a84e-43f1-8690-8200eeea4aba",
   "metadata": {},
   "outputs": [
    {
     "name": "stdout",
     "output_type": "stream",
     "text": [
      "rmse:  2.970214954730726\n",
      "mae:  1.6772464698331193\n"
     ]
    }
   ],
   "source": [
    "u=[5.1,-0.2,6.5,2.2,8.3]\n",
    "print('rmse: ', rmse(f_z, u, 5))\n",
    "print('mae: ', mae(f_z, u,5))"
   ]
  },
  {
   "cell_type": "markdown",
   "id": "6daf53b4-2a94-49c7-a8cf-d00224acdfe7",
   "metadata": {},
   "source": [
    "### Question 3"
   ]
  },
  {
   "cell_type": "code",
   "execution_count": 241,
   "id": "cf91fbfd-99f4-48cf-9dfd-aa651772d90b",
   "metadata": {},
   "outputs": [],
   "source": [
    "data_dict={(2.0,3.43,4.37):2,(2.49,4.28,4.83):2,(2.58,4.36,4.48):2,(2.66,4.45,5.95):2,\n",
    "(2.82,3.66,4.51):2,(3.03,4.37,5.07):2,(3.27,4.54,4.57):2,(3.41,3.94,5.35):2,\n",
    "(3.53,4.32,5.41):2,(3.53,4.6,6.8):1,(3.61,4.25,5.21):1,(3.61,4.78,5.47):1,\n",
    "(3.72,5.44,5.88):1,(3.87,4.96,4.52):2,(4.13,5.29,6.6):1,(4.25,5.97,5.48):1,\n",
    "(4.61,4.9,5.11):1,(4.73,4.4,6.78):1,(4.97,4.25,5.0):1,(4.98,5.27,6.79):1,\n",
    "(5.08,3.51,4.69):3,(5.15,3.58,4.2):3,(5.67,2.27,4.65):3,(5.67,3.81,5.75):3,\n",
    "(5.94,2.34,4.12):3,(6.06,3.16,4.36):3,(6.09,3.19,4.02):3,(6.43,3.42,4.18):3,\n",
    "(6.56,2.7,4.03):3,(6.79,3.46,4.81):3}"
   ]
  },
  {
   "cell_type": "code",
   "execution_count": 242,
   "id": "17d9b509-f8ce-4982-8bdf-537883fde53f",
   "metadata": {},
   "outputs": [],
   "source": [
    "center_dict = {(3,4,5):1, (4,5,6):2, (6,3,5):3}"
   ]
  },
  {
   "cell_type": "code",
   "execution_count": 285,
   "id": "6bafcc22-debe-4434-bc6e-210a6fd7ff9c",
   "metadata": {},
   "outputs": [],
   "source": [
    "def distance_func(single_center, single_point):\n",
    "    ''' This function calcualtes distance between two sets of array'''\n",
    "    distances_per_axis = []\n",
    "    \n",
    "    products = []\n",
    "    for i in range(len(single_point)):\n",
    "        single_dot = single_center[i] * single_point[i]\n",
    "        products.append(single_dot)\n",
    "    \n",
    "    dot_product = sum(products)\n",
    "    \n",
    "    abs_lens_a = []\n",
    "    abs_lens_b = []\n",
    "    for i in range(len(single_center)):\n",
    "        abs_lens_a.append(single_center[i]**2)\n",
    "        abs_lens_b.append(single_point[i]**2)\n",
    "    \n",
    "    abs_single_center = (sum(abs_lens_a))**1/2\n",
    "    abs_single_point = (sum(abs_lens_b))**1/2\n",
    "    \n",
    "    nom = dot_product\n",
    "    denom = abs_single_center * abs_single_point\n",
    "    \n",
    "    cos_dist = 1 - (nom/denom)\n",
    "    \n",
    "    return cos_dist\n",
    "\n",
    "\n",
    "\n",
    "def classify(data_dict,  center_dict):\n",
    "    data_points = list(data_dict.keys())\n",
    "    center_data = list(center_dict.keys())\n",
    "    labels = []\n",
    "    for i in range(len(data_points)):\n",
    "        dist_center_1 = distance_func(center_data[0], data_points[i])\n",
    "        dist_center_2 = distance_func(center_data[1], data_points[i])\n",
    "        data_ceneter_3 = distance_func(center_data[2], data_points[i])\n",
    "        temp_arr = [dist_center_1, dist_center_2, data_ceneter_3 ]\n",
    "        print('distances are: ', temp_arr)\n",
    "        minimum_dist = min(temp_arr)\n",
    "        print('minimum distance is: ', minimum_dist)\n",
    "        print('--------------------')\n",
    "        index = temp_arr.index(minimum_dist)\n",
    "        label = index+1\n",
    "        labels.append(label)\n",
    "    \n",
    "    return labels\n",
    "\n",
    "def how_many_correct(predicted, true):\n",
    "    counter = 0\n",
    "    \n",
    "    for i in range(len(predicted)):\n",
    "        if predicted[i] == true[i]:\n",
    "            counter += 1\n",
    "    return counter"
   ]
  },
  {
   "cell_type": "code",
   "execution_count": 286,
   "id": "100ef772-b640-49c8-8e70-2800c9c87bb7",
   "metadata": {},
   "outputs": [
    {
     "name": "stdout",
     "output_type": "stream",
     "text": [
      "distances are:  [0.9046061878617857, 0.9234528501519879, 0.9276490108288811]\n",
      "minimum distance is:  0.9046061878617857\n",
      "--------------------\n",
      "distances are:  [0.9185075887091043, 0.9344886983504755, 0.9379814039753764]\n",
      "minimum distance is:  0.9185075887091043\n",
      "--------------------\n",
      "distances are:  [0.9167752599679905, 0.9329869630111888, 0.9363307999755118]\n",
      "minimum distance is:  0.9167752599679905\n",
      "--------------------\n",
      "distances are:  [0.9286712074064797, 0.9427892974197923, 0.9458120643851032]\n",
      "minimum distance is:  0.9286712074064797\n",
      "--------------------\n",
      "distances are:  [0.9123970629508181, 0.9294202023518063, 0.9308470008741789]\n",
      "minimum distance is:  0.9123970629508181\n",
      "--------------------\n",
      "distances are:  [0.9230568311699859, 0.9380369069176779, 0.9400442840285604]\n",
      "minimum distance is:  0.9230568311699859\n",
      "--------------------\n",
      "distances are:  [0.9220991235768183, 0.9370922661859136, 0.9385863248639981]\n",
      "minimum distance is:  0.9220991235768183\n",
      "--------------------\n",
      "distances are:  [0.9243521197973257, 0.9390492285056439, 0.9395214479608339]\n",
      "minimum distance is:  0.9243521197973257\n",
      "--------------------\n",
      "distances are:  [0.9272479194057432, 0.9413522756250363, 0.9421015007340212]\n",
      "minimum distance is:  0.9272479194057432\n",
      "--------------------\n",
      "distances are:  [0.9369002853711892, 0.9493144679337171, 0.9506427515127642]\n",
      "minimum distance is:  0.9369002853711892\n",
      "--------------------\n",
      "distances are:  [0.9259873589211297, 0.9402815983543232, 0.9406776397334222]\n",
      "minimum distance is:  0.9259873589211297\n",
      "--------------------\n",
      "distances are:  [0.9303358287209694, 0.9438215087122254, 0.9449859729428249]\n",
      "minimum distance is:  0.9303358287209694\n",
      "--------------------\n",
      "distances are:  [0.936087295401403, 0.9484824155620398, 0.9501579357591172]\n",
      "minimum distance is:  0.936087295401403\n",
      "--------------------\n",
      "distances are:  [0.9279440216367906, 0.9416536763496964, 0.9421990499980598]\n",
      "minimum distance is:  0.9279440216367906\n",
      "--------------------\n",
      "distances are:  [0.9399103847586371, 0.9515880108649942, 0.9524997299288785]\n",
      "minimum distance is:  0.9399103847586371\n",
      "--------------------\n",
      "distances are:  [0.9388251817067899, 0.9505358865617208, 0.951676793430064]\n",
      "minimum distance is:  0.9388251817067899\n",
      "--------------------\n",
      "distances are:  [0.9338920786502686, 0.9464319512740371, 0.9456306140233947]\n",
      "minimum distance is:  0.9338920786502686\n",
      "--------------------\n",
      "distances are:  [0.9400784252913013, 0.95166592697074, 0.9508200806927279]\n",
      "minimum distance is:  0.9400784252913013\n",
      "--------------------\n",
      "distances are:  [0.9328132885894155, 0.9454710812169264, 0.9430202313174537]\n",
      "minimum distance is:  0.9328132885894155\n",
      "--------------------\n",
      "distances are:  [0.9432737384649372, 0.9541941721204653, 0.9538814648252067]\n",
      "minimum distance is:  0.9432737384649372\n",
      "--------------------\n",
      "distances are:  [0.9298367003423006, 0.9429650263113886, 0.9387347092203502]\n",
      "minimum distance is:  0.9298367003423006\n",
      "--------------------\n",
      "distances are:  [0.9287174726082813, 0.9419242753178649, 0.9371797530063134]\n",
      "minimum distance is:  0.9287174726082813\n",
      "--------------------\n",
      "distances are:  [0.933012356532025, 0.9454021030857752, 0.937857313778623]\n",
      "minimum distance is:  0.933012356532025\n",
      "--------------------\n",
      "distances are:  [0.9387915085760873, 0.9503308143363332, 0.9468188517136497]\n",
      "minimum distance is:  0.9387915085760873\n",
      "--------------------\n",
      "distances are:  [0.933792453614533, 0.9458507045077084, 0.9373872901939747]\n",
      "minimum distance is:  0.933792453614533\n",
      "--------------------\n",
      "distances are:  [0.9359452698466801, 0.9476715789247363, 0.9411866489171613]\n",
      "minimum distance is:  0.9359452698466801\n",
      "--------------------\n",
      "distances are:  [0.9355076736786673, 0.9472284730686045, 0.940347616359763]\n",
      "minimum distance is:  0.9355076736786673\n",
      "--------------------\n",
      "distances are:  [0.9388827986618203, 0.949977483421339, 0.9434841334784183]\n",
      "minimum distance is:  0.9388827986618203\n",
      "--------------------\n",
      "distances are:  [0.9391507485221101, 0.9501157601947062, 0.9419596245531991]\n",
      "minimum distance is:  0.9391507485221101\n",
      "--------------------\n",
      "distances are:  [0.9426093252458386, 0.9531000277197258, 0.9471083195862108]\n",
      "minimum distance is:  0.9426093252458386\n",
      "--------------------\n"
     ]
    }
   ],
   "source": [
    "predicted_labels = classify(data_dict, center_dict)\n",
    "true_labels = list(data_dict.values())"
   ]
  },
  {
   "cell_type": "code",
   "execution_count": 284,
   "id": "a4e3ba6b-54ff-42f3-bd8f-0e78aaf882c2",
   "metadata": {},
   "outputs": [
    {
     "name": "stdout",
     "output_type": "stream",
     "text": [
      "number of correctly predicted data  10\n"
     ]
    }
   ],
   "source": [
    "num_true = how_many_correct(predicted_labels, true_labels)\n",
    "print('number of correctly predicted data ', num_true)"
   ]
  }
 ],
 "metadata": {
  "kernelspec": {
   "display_name": "aidi_1002",
   "language": "python",
   "name": "aidi_1002"
  },
  "language_info": {
   "codemirror_mode": {
    "name": "ipython",
    "version": 3
   },
   "file_extension": ".py",
   "mimetype": "text/x-python",
   "name": "python",
   "nbconvert_exporter": "python",
   "pygments_lexer": "ipython3",
   "version": "3.10.6"
  }
 },
 "nbformat": 4,
 "nbformat_minor": 5
}
