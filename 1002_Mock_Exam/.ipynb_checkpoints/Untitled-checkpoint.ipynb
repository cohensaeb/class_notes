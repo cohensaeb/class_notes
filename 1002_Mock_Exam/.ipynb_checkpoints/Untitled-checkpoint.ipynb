{
 "cells": [
  {
   "cell_type": "code",
   "execution_count": 130,
   "id": "5d3e3c32-396c-4f55-a94f-234b59fb028b",
   "metadata": {},
   "outputs": [],
   "source": [
    "import pandas as pd\n",
    "import numpy as np\n",
    "#import sklearn\n",
    "from sklearn.model_selection import train_test_split\n",
    "from sklearn.datasets import load_iris\n",
    "from sklearn.linear_model import LogisticRegression\n",
    "from sklearn.tree import DecisionTreeClassifier\n",
    "from sklearn.ensemble import RandomForestClassifier\n",
    "from sklearn.naive_bayes import GaussianNB"
   ]
  },
  {
   "cell_type": "markdown",
   "id": "99947c3a-f402-4b38-8523-f94fb1367761",
   "metadata": {},
   "source": [
    "### Question 1"
   ]
  },
  {
   "cell_type": "code",
   "execution_count": 120,
   "id": "89ff7183-aec1-4838-a6d7-009854905347",
   "metadata": {},
   "outputs": [],
   "source": [
    "iris = load_iris()\n",
    "df = pd.DataFrame(data= np.c_[iris['data'], iris['target']],\n",
    "                     columns= iris['feature_names'] + ['target'])"
   ]
  },
  {
   "cell_type": "code",
   "execution_count": 123,
   "id": "4e0856ea-68a6-46ed-ba8a-d4df3f8bd3ed",
   "metadata": {},
   "outputs": [],
   "source": [
    "X = df.loc[:, df.columns!='target']\n",
    "y = df[['target']]\n",
    "X_train, X_test, y_train, y_test = train_test_split(X, y, test_size=0.20, random_state=42)"
   ]
  },
  {
   "cell_type": "code",
   "execution_count": 131,
   "id": "ee540338-d19a-4e82-bf82-dabf2d304c41",
   "metadata": {},
   "outputs": [],
   "source": [
    "def trian_with_perc(X_train, y_train, perc):\n",
    "    len_X_perc = len(X_train) * perc\n",
    "    len_y_perc = len(y_train) * perc\n",
    "    \n",
    "    X_train_perc = X_train[: len_X_perc]\n",
    "    y_train_perc = y_train[: len_y_perc]\n",
    "    #defining all the models\n",
    "    lr = LogisticRegression()\n",
    "    dr = DecisionTreeClassifier()\n",
    "    rf = RandomForestClassifier()\n",
    "    nb = GaussianNB()\n",
    "    \n",
    "    #training models in the data\n",
    "    lr.fit(X_train_perc.values, y_train_perc.values)\n",
    "    dr.fit(X_train_perc.values, y_train_perc.values)\n",
    "    rf.fit(X_trian_perc.values, y_train_perc.values)\n",
    "    nb.fit(X_train_perc.values, y_train_perc.values)\n",
    "    \n",
    "    return lr, dr, rf, nb"
   ]
  },
  {
   "cell_type": "code",
   "execution_count": 136,
   "id": "e71ae891-679e-4794-b940-3ec01a8d52c2",
   "metadata": {},
   "outputs": [],
   "source": [
    "models_dict = {}\n",
    "for i in range(16):\n",
    "    models_dict[i] = [None,None,None]\n",
    "\n",
    "for value "
   ]
  },
  {
   "cell_type": "markdown",
   "id": "a488b230-101f-4154-a55c-78cc8f22dbb2",
   "metadata": {},
   "source": [
    "### Question 2"
   ]
  },
  {
   "cell_type": "code",
   "execution_count": 46,
   "id": "70b5dff2-1d2b-4238-9f01-c6d20efbac7a",
   "metadata": {},
   "outputs": [],
   "source": [
    "# n = 10\n",
    "def linear_reg(X, r, N):\n",
    "    r_mean = np.mean(r)\n",
    "    X_mean = np.mean(X)\n",
    "\n",
    "    \n",
    "    #---------------------------\n",
    "    up_numbers = []\n",
    "    for i in range(N):\n",
    "        up_numbers.append(X[i]*r[i])\n",
    "        \n",
    "    sum_up = sum(up_numbers)\n",
    "    \n",
    "    nominator = sum_up - (X_mean*r_mean*N)\n",
    "    \n",
    "    #------------------------------\n",
    "    down_numbers = []\n",
    "    for i in range(len(X)):\n",
    "        down_numbers.append(X[i]*X[i])\n",
    "    \n",
    "    sum_down = sum(down_numbers)\n",
    "    \n",
    "    denominator = sum_down - (N*X_mean*X_mean)\n",
    "    \n",
    "    w1 = nominator/denominator\n",
    "    w0 = r_mean - w1*X_mean\n",
    "    \n",
    "    return w0, w1\n",
    "\n",
    "\n",
    "def apply_reg(X, w0, w1):\n",
    "    f_x = []\n",
    "    for value in X:\n",
    "        f_x.append(w0 + w1*value)\n",
    "    \n",
    "    return f_x\n",
    "\n",
    "\n",
    "def rmse(f_x, X, N):\n",
    "    diffs = []\n",
    "    \n",
    "    for i in range(len(f_x)):\n",
    "        diffs.append((f_x[i] - X[i])**2)\n",
    "    \n",
    "    sum_diffs = sum(diffs)\n",
    "    rms = 1/N * sum_diffs\n",
    "    \n",
    "    return rms\n",
    "\n",
    "\n",
    "def mae(f_x, X, N):\n",
    "    errors = []\n",
    "    for i in range(N):\n",
    "        errors.append(abs(f_x[i] - X[i]))\n",
    "    \n",
    "    error = np.median(errors)\n",
    "    return error"
   ]
  },
  {
   "cell_type": "code",
   "execution_count": 47,
   "id": "cf3e86d2-d8f1-48f6-ba8b-4cb2cd06ce78",
   "metadata": {},
   "outputs": [],
   "source": [
    "X = [ -1.4, -1.6, -1.3 ,0.2 ,2.0 , -1.1, 0.0 ,0.3 ,-0.9 ,-1.8]\n",
    "r = [6.9 , 7.8 , 8.0 , 5.8 , 1.9 , 7.3 , 5.8 , 5.8 , 8.2 , 9.6]"
   ]
  },
  {
   "cell_type": "code",
   "execution_count": 48,
   "id": "ae266090-9773-4b3c-852a-9d639adacf15",
   "metadata": {},
   "outputs": [
    {
     "name": "stdout",
     "output_type": "stream",
     "text": [
      "w0, w1: 5.768549422336328 -1.6811617458279848\n"
     ]
    }
   ],
   "source": [
    "w0, w1 = linear_reg(X,r, 10)\n",
    "print('w0, w1:', w0, w1)"
   ]
  },
  {
   "cell_type": "code",
   "execution_count": 49,
   "id": "ffdfa2de-3215-4bee-845e-2380656ea329",
   "metadata": {},
   "outputs": [
    {
     "name": "stdout",
     "output_type": "stream",
     "text": [
      "[8.122175866495507, 8.458408215661104, 7.954059691912708, 5.432317073170731, 2.406225930680358, 7.617827342747111, 5.768549422336328, 5.264200898587933, 7.281594993581514, 8.7946405648267]\n"
     ]
    }
   ],
   "source": [
    "f_x = apply_reg(X, w0,w1)\n",
    "print(f_x)"
   ]
  },
  {
   "cell_type": "code",
   "execution_count": 50,
   "id": "e17ce27a-3a8c-45d8-8c78-118e57216449",
   "metadata": {},
   "outputs": [
    {
     "name": "stdout",
     "output_type": "stream",
     "text": [
      "61.812806322207955\n"
     ]
    }
   ],
   "source": [
    "rms = rmse(f_x, X, 10)\n",
    "print(rms)"
   ]
  },
  {
   "cell_type": "code",
   "execution_count": 51,
   "id": "409925b6-a4ae-40bf-a99a-747e31cf7a35",
   "metadata": {},
   "outputs": [
    {
     "name": "stdout",
     "output_type": "stream",
     "text": [
      "8.449711168164313\n"
     ]
    }
   ],
   "source": [
    "mae_error = mae(f_x, X,10)\n",
    "print(mae_error)"
   ]
  },
  {
   "cell_type": "code",
   "execution_count": 52,
   "id": "b732956c-c7ea-4757-96c8-df02f6ef1944",
   "metadata": {},
   "outputs": [
    {
     "name": "stdout",
     "output_type": "stream",
     "text": [
      "[6.777246469833119, 2.742458279845955, 5.936665596919126, 3.9192715019255444, 8.626524390243901]\n"
     ]
    }
   ],
   "source": [
    "Z = [ -0.6, 1.8, -0.1, 1.1 , -1.7]\n",
    "f_z = apply_reg(Z, w0, w1)\n",
    "print(f_z)"
   ]
  },
  {
   "cell_type": "code",
   "execution_count": 55,
   "id": "8e56006f-a84e-43f1-8690-8200eeea4aba",
   "metadata": {},
   "outputs": [
    {
     "name": "stdout",
     "output_type": "stream",
     "text": [
      "rmse:  2.970214954730726\n",
      "mae:  1.6772464698331193\n"
     ]
    }
   ],
   "source": [
    "u = [5.1, -0.2, 6.5, 2.2, 8.3]\n",
    "print('rmse: ', rmse(f_z, u, 5))\n",
    "print('mae: ', mae(f_z, u,5))"
   ]
  },
  {
   "cell_type": "markdown",
   "id": "6daf53b4-2a94-49c7-a8cf-d00224acdfe7",
   "metadata": {},
   "source": [
    "### Question 3"
   ]
  },
  {
   "cell_type": "code",
   "execution_count": 73,
   "id": "cf91fbfd-99f4-48cf-9dfd-aa651772d90b",
   "metadata": {},
   "outputs": [],
   "source": [
    "data_dict={(2.0,3.43,4.37):2,(2.49,4.28,4.83):2,(2.58,4.36,4.48):2,(2.66,4.45,5.95):2,\n",
    "(2.82,3.66,4.51):2,(3.03,4.37,5.07):2,(3.27,4.54,4.57):2,(3.41,3.94,5.35):2,\n",
    "(3.53,4.32,5.41):2,(3.53,4.6,6.8):1,(3.61,4.25,5.21):1,(3.61,4.78,5.47):1,\n",
    "(3.72,5.44,5.88):1,(3.87,4.96,4.52):2,(4.13,5.29,6.6):1,(4.25,5.97,5.48):1,\n",
    "(4.61,4.9,5.11):1,(4.73,4.4,6.78):1,(4.97,4.25,5.0):1,(4.98,5.27,6.79):1,\n",
    "(5.08,3.51,4.69):3,(5.15,3.58,4.2):3,(5.67,2.27,4.65):3,(5.67,3.81,5.75):3,\n",
    "(5.94,2.34,4.12):3,(6.06,3.16,4.36):3,(6.09,3.19,4.02):3,(6.43,3.42,4.18):3,\n",
    "(6.56,2.7,4.03):3,(6.79,3.46,4.81):3}"
   ]
  },
  {
   "cell_type": "code",
   "execution_count": null,
   "id": "17d9b509-f8ce-4982-8bdf-537883fde53f",
   "metadata": {},
   "outputs": [],
   "source": [
    "center_dict = {(3,4,5):1, (4,5,6):2, (6,3,5):3}"
   ]
  },
  {
   "cell_type": "code",
   "execution_count": 103,
   "id": "6bafcc22-debe-4434-bc6e-210a6fd7ff9c",
   "metadata": {},
   "outputs": [],
   "source": [
    "def distance_func(single_center, single_point, p):\n",
    "    distances_per_axis = []\n",
    "    for i in range(len(single_point)):\n",
    "        dist_1 = single_center[i] - single_point[i]\n",
    "        dist_2 = single_center[i] - single_point[i]\n",
    "        dist_3 = single_center[i] - single_point[i]\n",
    "        distances_per_axis.append((abs(dist_1))*p)\n",
    "    \n",
    "    sum_dists = sum(distances_per_axis)\n",
    "    \n",
    "    minkowski_dist = sum_dists**(1/p)\n",
    "    \n",
    "    return minkowski_dist\n",
    "\n",
    "\n",
    "def classify(data_dict,  center_dict,p):\n",
    "    data_points = list(data_dict.keys())\n",
    "    center_data = list(center_dict.keys())\n",
    "    labels = []\n",
    "    for i in range(len(data_points)):\n",
    "        dist_center_1 = distance_func(center_data[0], data_points[i],p)\n",
    "        dist_center_2 = distance_func(center_data[1], data_points[i],p)\n",
    "        data_ceneter_3 = distance_func(center_data[2], data_points[i],p)\n",
    "        temp_arr = [dist_center_1, dist_center_2, data_ceneter_3 ]\n",
    "        minimum_dist = min(temp_arr)\n",
    "        index = temp_arr.index(minimum_dist)\n",
    "        label = index+1\n",
    "        labels.append(label)\n",
    "    \n",
    "    return labels\n",
    "\n",
    "def how_many_correct(predicted, true):\n",
    "    counter = 0\n",
    "    \n",
    "    for i in range(len(predicted)):\n",
    "        if predicted[i] == true[i]:\n",
    "            counter += 1\n",
    "    return counter"
   ]
  },
  {
   "cell_type": "code",
   "execution_count": 106,
   "id": "100ef772-b640-49c8-8e70-2800c9c87bb7",
   "metadata": {},
   "outputs": [],
   "source": [
    "predicted_labels_p1 = classify(data_dict, center_dict,1)\n",
    "predicted_labels_p2 = classify(data_dict, center_dict,2)\n",
    "predicted_labels_p3 = classify(data_dict, center_dict,3)"
   ]
  },
  {
   "cell_type": "code",
   "execution_count": 107,
   "id": "2c965377-a0e5-459a-966c-c99ac86f56cd",
   "metadata": {},
   "outputs": [],
   "source": [
    "true_labels = list(data_dict.values())"
   ]
  },
  {
   "cell_type": "code",
   "execution_count": 108,
   "id": "a4e3ba6b-54ff-42f3-bd8f-0e78aaf882c2",
   "metadata": {},
   "outputs": [
    {
     "name": "stdout",
     "output_type": "stream",
     "text": [
      "correct for p1, p2 and p3,  13 13 13\n"
     ]
    }
   ],
   "source": [
    "num_true_1 = how_many_correct(predicted_labels_p1, true_labels)\n",
    "num_true_2 = how_many_correct(predicted_labels_p2, true_labels)\n",
    "num_true_3 = how_many_correct(predicted_labels_p3, true_labels)\n",
    "\n",
    "print('correct for p1, p2 and p3, ', num_true_1, num_true_2, num_true_3)"
   ]
  },
  {
   "cell_type": "code",
   "execution_count": 109,
   "id": "e9b5e4fe-1bdf-4afd-818c-3c92b85b5e11",
   "metadata": {},
   "outputs": [
    {
     "name": "stdout",
     "output_type": "stream",
     "text": [
      "[1, 1, 1, 1, 1, 1, 1, 1, 1, 2, 1, 2, 2, 2, 2, 2, 2, 2, 1, 2, 3, 3, 3, 3, 3, 3, 3, 3, 3, 3]\n",
      "[1, 1, 1, 1, 1, 1, 1, 1, 1, 2, 1, 2, 2, 2, 2, 2, 2, 2, 1, 2, 3, 3, 3, 3, 3, 3, 3, 3, 3, 3]\n"
     ]
    }
   ],
   "source": [
    "print(predicted_labels_p1)\n",
    "print(predicted_labels_p2)\n"
   ]
  }
 ],
 "metadata": {
  "kernelspec": {
   "display_name": "aidi_1002",
   "language": "python",
   "name": "aidi_1002"
  },
  "language_info": {
   "codemirror_mode": {
    "name": "ipython",
    "version": 3
   },
   "file_extension": ".py",
   "mimetype": "text/x-python",
   "name": "python",
   "nbconvert_exporter": "python",
   "pygments_lexer": "ipython3",
   "version": "3.10.6"
  }
 },
 "nbformat": 4,
 "nbformat_minor": 5
}
